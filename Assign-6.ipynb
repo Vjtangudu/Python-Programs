{
 "cells": [
  {
   "cell_type": "markdown",
   "id": "708952a1",
   "metadata": {},
   "source": [
    "# ASSIGNMENT - 6\n",
    "## TANNU KUMARI\n",
    "## 2105588"
   ]
  },
  {
   "cell_type": "markdown",
   "id": "96e68539",
   "metadata": {},
   "source": [
    "Q1. Ms. Gabriel Willams is a botany professor at District College. One day, she asked her student Mickey to compute the average of all the plants with distinct heights in her green house."
   ]
  },
  {
   "cell_type": "code",
   "execution_count": 5,
   "id": "a5ce1a67",
   "metadata": {},
   "outputs": [
    {
     "name": "stdout",
     "output_type": "stream",
     "text": [
      "2105588\n",
      "Enter the number of integers: 10\n",
      "Enter the integers separated by spaces: 161 182 161 154 176 170 167 171 170 174\n",
      "{161, 167, 170, 171, 174, 176, 182, 154}\n",
      "169.375\n"
     ]
    }
   ],
   "source": [
    "print('2105588')\n",
    "n = int(input(\"Enter the number of integers: \"))\n",
    "s = {int(x) for x in input(\"Enter the integers separated by spaces: \").split()}\n",
    "print(s)\n",
    "print(sum(s)/len(s))"
   ]
  },
  {
   "cell_type": "markdown",
   "id": "780cc82b",
   "metadata": {},
   "source": [
    "Q2. The students of District College have subscriptions to English and French newspapers. Some students\n",
    "have subscribed only to English, some have subscribed only to French, and some have subscribed to\n",
    "both newspapers.\n",
    "You are given two sets of student roll numbers. One set has subscribed to the English newspaper, one\n",
    "set has subscribed to the French newspaper. Your task is to find the total number of students who have\n",
    "subscribed to both newspapers."
   ]
  },
  {
   "cell_type": "code",
   "execution_count": 6,
   "id": "cd979675",
   "metadata": {},
   "outputs": [
    {
     "name": "stdout",
     "output_type": "stream",
     "text": [
      "2105588\n",
      "Enter the number of students subscribed English: 9\n",
      "Enter the id's separated by spaces: 1 2 3 4 5 6 7 8 9\n",
      "Enter the number of students subscribed French: 9\n",
      "Enter the id's separated by spaces: 10 1 2 3 11 21 55 6 8\n",
      "5\n"
     ]
    }
   ],
   "source": [
    "print('2105588')\n",
    "E = int(input(\"Enter the number of students subscribed English: \"))\n",
    "English = {int(x) for x in input(\"Enter the id's separated by spaces: \").split()}\n",
    "F = int(input(\"Enter the number of students subscribed French: \"))\n",
    "French = {int(x) for x in input(\"Enter the id's separated by spaces: \").split()}\n",
    "n = English.intersection(French)\n",
    "print(len(n))"
   ]
  },
  {
   "cell_type": "markdown",
   "id": "9a365e21",
   "metadata": {},
   "source": [
    "Q3. You are given a set and number of other sets. These number of sets have to perform some specific\n",
    "mutation operations on set .\n",
    "Your task is to execute those operations and print the sum of elements from set ."
   ]
  },
  {
   "cell_type": "code",
   "execution_count": 7,
   "id": "ab1e39b0",
   "metadata": {},
   "outputs": [
    {
     "name": "stdout",
     "output_type": "stream",
     "text": [
      "2105588\n",
      "Enter the number of integers: 16\n",
      "Enter the integers separated by spaces:  1 2 3 4 5 6 7 8 9 10 11 12 13 14 24 52\n",
      "Enter the number of other set: 4\n",
      "Enter operation & length of other set: intersection_update 10\n",
      "2 3 5 6 8 9 1 4 7 11\n",
      "Enter operation & length of other set: update 2\n",
      "55 66\n",
      "Enter operation & length of other set: symmetric_difference_update 5\n",
      "22 7 35 62 58 \n",
      "Enter operation & length of other set: difference_update 7\n",
      "11 22 35 55 58 62 66\n",
      "38\n"
     ]
    }
   ],
   "source": [
    "print('2105588')\n",
    "def perform_operations(set_A, num_operations, operations):\n",
    "    for operation in operations:\n",
    "        op_name, length = operation[0], operation[1]\n",
    "        other_set = set(operation[2])\n",
    "\n",
    "        if op_name == \"intersection_update\":\n",
    "            set_A.intersection_update(other_set)\n",
    "        elif op_name == \"update\":\n",
    "            set_A.update(other_set)\n",
    "        elif op_name == \"symmetric_difference_update\":\n",
    "            set_A.symmetric_difference_update(other_set)\n",
    "        elif op_name == \"difference_update\":\n",
    "            set_A.difference_update(other_set)\n",
    "\n",
    "    return sum(set_A)\n",
    "\n",
    "if __name__ == \"__main__\":\n",
    "    num_elements = int(input(\"Enter the number of integers: \"))\n",
    "    set_A = set(map(int, input(\"Enter the integers separated by spaces: \").split()))\n",
    "    num_operations = int(input(\"Enter the number of other set: \"))\n",
    "\n",
    "    operations = []\n",
    "    for _ in range(num_operations):\n",
    "        op_info = input('Enter operation & length of other set: ').split()\n",
    "        op_name = op_info[0]\n",
    "        length = int(op_info[1])\n",
    "        other_set = list(map(int, input().split()))\n",
    "        operations.append((op_name, length, other_set))\n",
    "    result = perform_operations(set_A, num_operations, operations)\n",
    "    print(result)\n"
   ]
  }
 ],
 "metadata": {
  "kernelspec": {
   "display_name": "Python 3 (ipykernel)",
   "language": "python",
   "name": "python3"
  },
  "language_info": {
   "codemirror_mode": {
    "name": "ipython",
    "version": 3
   },
   "file_extension": ".py",
   "mimetype": "text/x-python",
   "name": "python",
   "nbconvert_exporter": "python",
   "pygments_lexer": "ipython3",
   "version": "3.10.9"
  }
 },
 "nbformat": 4,
 "nbformat_minor": 5
}
