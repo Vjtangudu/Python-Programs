{
 "cells": [
  {
   "cell_type": "markdown",
   "id": "92de7a34",
   "metadata": {},
   "source": [
    "# ASSIGNMENT-8\n",
    "# TANGUDU VIJAY SANKAR\n",
    "# 2105586"
   ]
  },
  {
   "cell_type": "markdown",
   "id": "5dd7ebf7",
   "metadata": {},
   "source": [
    "1. Create a null vector of size 10 but the fifth value is 1"
   ]
  },
  {
   "cell_type": "code",
   "execution_count": 1,
   "id": "9ad900cd",
   "metadata": {},
   "outputs": [
    {
     "name": "stdout",
     "output_type": "stream",
     "text": [
      "2105586\n",
      "[0 0 0 0 1 0 0 0 0 0]\n"
     ]
    }
   ],
   "source": [
    "print('2105586')\n",
    "import numpy as np\n",
    "a = np.array([0,0,0,0,1,0,0,0,0,0])\n",
    "print(a)"
   ]
  },
  {
   "cell_type": "markdown",
   "id": "b7ff8334",
   "metadata": {},
   "source": [
    "2. Create a vector with values ranging from 10 to 49"
   ]
  },
  {
   "cell_type": "code",
   "execution_count": 2,
   "id": "e8164be7",
   "metadata": {},
   "outputs": [
    {
     "name": "stdout",
     "output_type": "stream",
     "text": [
      "2105586\n",
      "[10 11 12 13 14 15 16 17 18 19 20 21 22 23 24 25 26 27 28 29 30 31 32 33\n",
      " 34 35 36 37 38 39 40 41 42 43 44 45 46 47 48 49]\n"
     ]
    }
   ],
   "source": [
    "print('2105586')\n",
    "a = np.arange(10,50)\n",
    "print(a)"
   ]
  },
  {
   "cell_type": "markdown",
   "id": "e84c9a97",
   "metadata": {},
   "source": [
    "3. Reverse a vector (first element becomes last)"
   ]
  },
  {
   "cell_type": "code",
   "execution_count": 3,
   "id": "dbf01e10",
   "metadata": {},
   "outputs": [
    {
     "name": "stdout",
     "output_type": "stream",
     "text": [
      "2105586\n",
      "[9 8 7 6 5 4 3 2 1]\n"
     ]
    }
   ],
   "source": [
    "print('2105586')\n",
    "b = np.array([1,2,3,4,5,6,7,8,9])\n",
    "print(b[::-1])"
   ]
  },
  {
   "cell_type": "markdown",
   "id": "c03d3cc0",
   "metadata": {},
   "source": [
    "4. Create a 3x3 matrix with values ranging from 0 to 8\n",
    "`hint: reshape`"
   ]
  },
  {
   "cell_type": "code",
   "execution_count": 4,
   "id": "336c5e07",
   "metadata": {},
   "outputs": [
    {
     "name": "stdout",
     "output_type": "stream",
     "text": [
      "2105586\n",
      "[[0 1 2]\n",
      " [3 4 5]\n",
      " [6 7 8]]\n"
     ]
    }
   ],
   "source": [
    "print('2105586')\n",
    "b = np.array([0,1,2,3,4,5,6,7,8])\n",
    "print(b.reshape([3,3]))"
   ]
  },
  {
   "cell_type": "markdown",
   "id": "b352d18b",
   "metadata": {},
   "source": [
    "5. Find indices of non-zero elements from [1,2,0,0,4,0]\n",
    "`hint: np.nonzero`"
   ]
  },
  {
   "cell_type": "code",
   "execution_count": 5,
   "id": "0cbaf7d1",
   "metadata": {},
   "outputs": [
    {
     "name": "stdout",
     "output_type": "stream",
     "text": [
      "2105586\n",
      "indices:  (array([0, 1, 4], dtype=int64),)\n",
      "[1 2 4]\n"
     ]
    }
   ],
   "source": [
    "print('2105586')\n",
    "b = np.array([1,2,0,0,4,0])\n",
    "print(\"indices: \",np.nonzero(b))\n",
    "print(b[np.nonzero(b)])"
   ]
  },
  {
   "cell_type": "markdown",
   "id": "3b7d74cb",
   "metadata": {},
   "source": [
    "6. Create a 3x3x3 array with random values\n",
    "`hint: np.random.random`"
   ]
  },
  {
   "cell_type": "code",
   "execution_count": 6,
   "id": "9577aa64",
   "metadata": {},
   "outputs": [
    {
     "name": "stdout",
     "output_type": "stream",
     "text": [
      "2105586\n",
      "[[[7 6 3]\n",
      "  [8 5 2]\n",
      "  [8 2 7]]\n",
      "\n",
      " [[5 2 1]\n",
      "  [0 5 3]\n",
      "  [8 4 2]]\n",
      "\n",
      " [[0 1 9]\n",
      "  [8 2 1]\n",
      "  [6 5 3]]]\n"
     ]
    }
   ],
   "source": [
    "print('2105586')\n",
    "a = np.random.randint(0, 10, size=(3, 3, 3))\n",
    "print(a)"
   ]
  },
  {
   "cell_type": "markdown",
   "id": "e26e1aaa",
   "metadata": {},
   "source": [
    "7. Create a 10x10 array with random values and find the minimum and\n",
    "maximum values\n",
    "`hint: min, max`"
   ]
  },
  {
   "cell_type": "code",
   "execution_count": 7,
   "id": "7301846e",
   "metadata": {},
   "outputs": [
    {
     "name": "stdout",
     "output_type": "stream",
     "text": [
      "2105586\n",
      "[[37 22 95 27 61 68 27 86 31 81]\n",
      " [ 0 24 24 64 83 76 33 19 18 43]\n",
      " [11 86 76 43 88 72 32 86 66 48]\n",
      " [24 81 25 73 83 90 18 64 53  6]\n",
      " [57 26 23  7 79 44 83 20 33 98]\n",
      " [11 86  9  5 79 77 12 43 39 12]\n",
      " [ 4 35 20 55 83 75 78 61 97 35]\n",
      " [ 3 16 35 91 81 86 43 32 74 26]\n",
      " [61 50 80 47 32 41 61 17  7 94]\n",
      " [ 0 80 28 57 15 35 96 23  5 31]]\n",
      "Min:  0\n",
      "Max:  98\n"
     ]
    }
   ],
   "source": [
    "print('2105586')\n",
    "a = np.random.randint(0,99,size=(10,10))\n",
    "print(a)\n",
    "print(\"Min: \",a.min())\n",
    "print('Max: ',a.max())"
   ]
  },
  {
   "cell_type": "markdown",
   "id": "90f2cef7",
   "metadata": {},
   "source": [
    "8. Create a random vector of size 30 and find the mean value\n",
    "`hint: mean`"
   ]
  },
  {
   "cell_type": "code",
   "execution_count": 8,
   "id": "f45f34f6",
   "metadata": {},
   "outputs": [
    {
     "name": "stdout",
     "output_type": "stream",
     "text": [
      "2105586\n",
      "[ 8 25 13 50 55 26 75 88 46 13 89 88 82 38 74 24  4  7 44 54 16 32 70 27\n",
      " 21 17 95 11 14 58]\n",
      "Mean:  42.13333333333333\n"
     ]
    }
   ],
   "source": [
    "print('2105586')\n",
    "#x = np.arange()\n",
    "a = np.random.randint(0,99,size=(30))\n",
    "print(a)\n",
    "print('Mean: ',np.mean(a))"
   ]
  },
  {
   "cell_type": "markdown",
   "id": "f29bd65a",
   "metadata": {},
   "source": [
    "9. Create a 2d array with 1 on the border and 0 inside\n",
    "`hint: array[1:-1, 1:-1]`"
   ]
  },
  {
   "cell_type": "code",
   "execution_count": 9,
   "id": "d536997c",
   "metadata": {},
   "outputs": [
    {
     "name": "stdout",
     "output_type": "stream",
     "text": [
      "2105586\n",
      "Enter matrix: 4\n",
      "[[1. 1. 1. 1.]\n",
      " [1. 0. 0. 1.]\n",
      " [1. 0. 0. 1.]\n",
      " [1. 1. 1. 1.]]\n"
     ]
    }
   ],
   "source": [
    "print('2105586')\n",
    "r = int(input('Enter matrix: '))\n",
    "a = np.ones((r, r))\n",
    "a[1:-1,1:-1]=0\n",
    "print(a)"
   ]
  },
  {
   "cell_type": "markdown",
   "id": "75950263",
   "metadata": {},
   "source": [
    "10. Normalize a 5x5 random matrix\n",
    "`hint: (x -mean)/std`"
   ]
  },
  {
   "cell_type": "code",
   "execution_count": 10,
   "id": "d7ec095a",
   "metadata": {},
   "outputs": [
    {
     "name": "stdout",
     "output_type": "stream",
     "text": [
      "2105586\n",
      "Orginal Martix\n",
      "[[50 32 38 80 22]\n",
      " [24 58 12 40 71]\n",
      " [24  8 63 52 16]\n",
      " [86 22 48 61 64]\n",
      " [28  5 79 23 55]]\n",
      "\n",
      "\n",
      "Normalized Martix\n",
      "[[ 0.32268632 -0.44561445 -0.18951419  1.60318761 -0.87244821]\n",
      " [-0.78708146  0.66415333 -1.29928197 -0.10414744  1.21903723]\n",
      " [-0.78708146 -1.47001548  0.87757022  0.40805308 -1.12854847]\n",
      " [ 1.85928787 -0.87244821  0.23731957  0.79220346  0.92025359]\n",
      " [-0.61634795 -1.59806561  1.56050424 -0.82976483  0.53610321]]\n"
     ]
    }
   ],
   "source": [
    "print('2105586')\n",
    "a = np.random.randint(0,99,size=(5,5))\n",
    "mean = np.mean(a)\n",
    "std = np.std(a)\n",
    "normalized_a = (a - mean) / std\n",
    "print('Orginal Martix')\n",
    "print(a)\n",
    "print('\\n')\n",
    "print('Normalized Martix')\n",
    "print(normalized_a)"
   ]
  },
  {
   "cell_type": "markdown",
   "id": "0731437f",
   "metadata": {},
   "source": [
    "11. Multiply a 5x3 matrix by a 3x2 matrix (real matrix product)"
   ]
  },
  {
   "cell_type": "code",
   "execution_count": 11,
   "id": "b23d505f",
   "metadata": {},
   "outputs": [
    {
     "name": "stdout",
     "output_type": "stream",
     "text": [
      "2105586\n",
      "[[238 332]\n",
      " [403 479]\n",
      " [ 70  78]\n",
      " [319 450]\n",
      " [201 311]]\n"
     ]
    }
   ],
   "source": [
    "print('2105586')\n",
    "a = np.random.randint(0,20,size=(5,3))\n",
    "a1 = np.random.randint(0,20,size=(3,2))\n",
    "print(np.dot(a,a1))"
   ]
  },
  {
   "cell_type": "markdown",
   "id": "8bbe9d6c",
   "metadata": {},
   "source": [
    "12. Given a 1D array, negate all elements which are between 3 and 8, in place."
   ]
  },
  {
   "cell_type": "code",
   "execution_count": 12,
   "id": "73977863",
   "metadata": {},
   "outputs": [
    {
     "name": "stdout",
     "output_type": "stream",
     "text": [
      "2105586\n",
      "[ 1  2  0  0  0  0  0  0  9 10]\n"
     ]
    }
   ],
   "source": [
    "print('2105586')\n",
    "a = np.arange(1,11)\n",
    "a[(a>2) & (a<9)] *=0\n",
    "print(a)"
   ]
  },
  {
   "cell_type": "markdown",
   "id": "1fb2d7e0",
   "metadata": {},
   "source": [
    "13. Find the eigenvalues and eigenvectors of a square matrix.\n",
    "`hint: np.linalg.eig`"
   ]
  },
  {
   "cell_type": "code",
   "execution_count": 13,
   "id": "af011c28",
   "metadata": {},
   "outputs": [
    {
     "name": "stdout",
     "output_type": "stream",
     "text": [
      "2105586\n",
      "Eigenvalues:\n",
      "[ 1.61168440e+01 -1.11684397e+00 -4.22209278e-16]\n",
      "\n",
      "Eigenvectors:\n",
      "[[-0.23197069 -0.78583024  0.40824829]\n",
      " [-0.52532209 -0.08675134 -0.81649658]\n",
      " [-0.8186735   0.61232756  0.40824829]]\n"
     ]
    }
   ],
   "source": [
    "print('2105586')\n",
    "a = np.array([[1, 2, 3],[4, 5, 6],[7, 8, 9]])\n",
    "\n",
    "eigenvalues, eigenvectors = np.linalg.eig(a)\n",
    "\n",
    "print(\"Eigenvalues:\")\n",
    "print(eigenvalues)\n",
    "print(\"\\nEigenvectors:\")\n",
    "print(eigenvectors)"
   ]
  },
  {
   "cell_type": "markdown",
   "id": "8b0f7dae",
   "metadata": {},
   "source": [
    "14. Find the inverse of a square matrix.\n",
    "`hint: np.linalg.inv`"
   ]
  },
  {
   "cell_type": "code",
   "execution_count": 14,
   "id": "9fabbe77",
   "metadata": {},
   "outputs": [
    {
     "name": "stdout",
     "output_type": "stream",
     "text": [
      "2105586\n",
      "Enter matrix size: 4\n",
      "[[ 6 17  7  4]\n",
      " [ 4 18  5 17]\n",
      " [12 13 16 13]\n",
      " [19  2 13 19]]\n",
      "\n",
      "Inverse\n",
      "[[ 0.13259308 -0.04702809 -0.12344873  0.09862835]\n",
      " [ 0.06825604  0.01273677 -0.02906597 -0.00587851]\n",
      " [-0.09307642 -0.02746934  0.17094854 -0.07279193]\n",
      " [-0.07609406  0.06448218  0.00954351  0.00442703]]\n"
     ]
    }
   ],
   "source": [
    "print('2105586')\n",
    "r = int(input('Enter matrix size: '))\n",
    "a = np.random.randint(1,20,size=(r,r))\n",
    "i = np.linalg.inv(a)\n",
    "print(a)\n",
    "print('\\nInverse')\n",
    "print(np.linalg.inv(a))"
   ]
  }
 ],
 "metadata": {
  "kernelspec": {
   "display_name": "Python 3 (ipykernel)",
   "language": "python",
   "name": "python3"
  },
  "language_info": {
   "codemirror_mode": {
    "name": "ipython",
    "version": 3
   },
   "file_extension": ".py",
   "mimetype": "text/x-python",
   "name": "python",
   "nbconvert_exporter": "python",
   "pygments_lexer": "ipython3",
   "version": "3.10.9"
  }
 },
 "nbformat": 4,
 "nbformat_minor": 5
}
