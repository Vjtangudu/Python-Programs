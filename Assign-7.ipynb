{
 "cells": [
  {
   "cell_type": "markdown",
   "id": "7a05eff0",
   "metadata": {},
   "source": [
    "# ASSIGNMENT-7\n",
    "## TANGUDU VIJAY SANKAR\n",
    "## 2105586"
   ]
  },
  {
   "cell_type": "markdown",
   "id": "efb1f97b",
   "metadata": {},
   "source": [
    "Q1. Write a program to create a dictionary containing names of competition winner students as\n",
    "keys and number of their wins as values."
   ]
  },
  {
   "cell_type": "code",
   "execution_count": 1,
   "id": "53e36052",
   "metadata": {},
   "outputs": [
    {
     "name": "stdout",
     "output_type": "stream",
     "text": [
      "2105586\n",
      "How many students? 3\n",
      "Name of the student: Vijay\n",
      "Number of competitions won: 5\n",
      "Name of the student: Sounak\n",
      "Number of competitions won: 6\n",
      "Name of the student: Vishal\n",
      "Number of competitions won: 7\n",
      "The dictionary now is:\n",
      "{'Vijay': 5, 'Sounak': 6, 'Vishal': 7}\n"
     ]
    }
   ],
   "source": [
    "print('2105586')\n",
    "winners = {}\n",
    "n = int(input(\"How many students? \"))\n",
    "for i in range(n):\n",
    "    name = input(\"Name of the student: \")\n",
    "    wins = int(input(\"Number of competitions won: \"))\n",
    "    winners[name] = wins\n",
    "\n",
    "print(\"The dictionary now is:\")\n",
    "print(winners)"
   ]
  },
  {
   "cell_type": "markdown",
   "id": "68f0532d",
   "metadata": {},
   "source": [
    "Q2. Write a program to create a phone directory for all your friends and then print it."
   ]
  },
  {
   "cell_type": "code",
   "execution_count": 5,
   "id": "849c485b",
   "metadata": {},
   "outputs": [
    {
     "name": "stdout",
     "output_type": "stream",
     "text": [
      "2105586\n",
      "How many friends? 2\n",
      "Name of the 1 friend: Vijay \n",
      "Enter Phone Number: 7735004600\n",
      "Name of the 2 friend: Vishal\n",
      "Enter Phone Number: 7735004601\n",
      "The Phone Directory is:\n",
      "{'Vijay ': 7735004600, 'Vishal': 7735004601}\n"
     ]
    }
   ],
   "source": [
    "print('2105586')\n",
    "Phone = {}\n",
    "n = int(input(\"How many friends? \"))\n",
    "for i in range(n):\n",
    "    name = input(f\"Name of the {i+1} friend: \")\n",
    "    number = int(input(\"Enter Phone Number: \"))\n",
    "    Phone[name] = number\n",
    "\n",
    "print(\"The Phone Directory is:\")\n",
    "print(Phone)"
   ]
  },
  {
   "cell_type": "markdown",
   "id": "1f98b756",
   "metadata": {},
   "source": [
    "Q3. Marks of three students ‘Suniti’, ‘Ryna’, and ‘ziva’ in 3 subjects are available in dictionary.\n",
    "D1 = {1:40, 2:70, 3:70}\n",
    "D2 = {1:40, 2:50, 3:60}\n",
    "D1 = {1:70, 2:80, 3:90}\n",
    "Sample Output:\n",
    "Key Value\n",
    "Ryna {1:40, 2:50, 3:60}\n",
    "Subject(Key) Marks(Value)\n",
    "1 40\n",
    "2 50\n",
    "3 60\n",
    "Find the highest mark in subject 3."
   ]
  },
  {
   "cell_type": "code",
   "execution_count": 6,
   "id": "098fd230",
   "metadata": {},
   "outputs": [
    {
     "name": "stdout",
     "output_type": "stream",
     "text": [
      "2105586\n",
      "Which students marks you want to see? Ryna\n",
      "{1: 40, 2: 50, 3: 60}\n",
      "Subject\tMarks\n",
      "1\t40\n",
      "2\t50\n",
      "3\t60\n"
     ]
    }
   ],
   "source": [
    "print('2105586')\n",
    "D1 = {1: 40, 2: 70, 3: 70}\n",
    "D2 = {1: 40, 2: 50, 3: 60}\n",
    "D3 = {1: 70, 2: 80, 3: 90}\n",
    "\n",
    "Marks = {\"Suniti\": D1, \"Ryna\": D2, \"Ziva\": D3}\n",
    "\n",
    "key = input(\"Which students marks you want to see? \")\n",
    "print(Marks.get(key))\n",
    "\n",
    "print(\"Subject\\tMarks\")\n",
    "for key, value in Marks[key].items():\n",
    "    print(f\"{key}\\t{value}\")\n"
   ]
  },
  {
   "cell_type": "markdown",
   "id": "116716e5",
   "metadata": {},
   "source": [
    "Q4. Create a dictionary whose keys are month names and whose values are the number of days\n",
    "in the corresponding months.\n",
    "a) Ask the user to enter a month name and use the dictionary to tell them how many days\n",
    "are in the month.\n",
    "b) Print out all the keys in alphabetical order.\n",
    "c) Print out all of the month with 31 days.\n",
    "d) Print out the (key value) pairs started by the number of days in each month."
   ]
  },
  {
   "cell_type": "code",
   "execution_count": 8,
   "id": "67a8a467",
   "metadata": {},
   "outputs": [
    {
     "name": "stdout",
     "output_type": "stream",
     "text": [
      "2105586\n",
      "2105588\n",
      "Enter a month name: May\n",
      "There are 31 days in May\n",
      "April August December February January July June March May November October September January\n",
      "March\n",
      "May\n",
      "July\n",
      "August\n",
      "October\n",
      "December\n"
     ]
    }
   ],
   "source": [
    "print('2105586')\n",
    "month_dict = {\n",
    "    'January': 31,\n",
    "    'February': 28,\n",
    "    'March': 31,\n",
    "    'April': 30,\n",
    "    'May': 31,\n",
    "    'June': 30,\n",
    "    'July': 31,\n",
    "    'August': 31,\n",
    "    'September': 30,\n",
    "    'October': 31,\n",
    "    'November': 30,\n",
    "    'December': 31\n",
    "}\n",
    "\n",
    "print('2105588')\n",
    "month_name = input(\"Enter a month name: \")\n",
    "\n",
    "if month_name in month_dict:\n",
    "    days = month_dict[month_name]\n",
    "    print(\"There are {} days in {}\".format(days, month_name))\n",
    "else:\n",
    "    print(\"Invalid month name\")\n",
    "for k in sorted(month_dict.keys()):\n",
    "    print(k, end=\" \")\n",
    "for month in month_dict:\n",
    "    if month_dict[month] == 31:\n",
    "        print(month)"
   ]
  },
  {
   "cell_type": "markdown",
   "id": "5f56631d",
   "metadata": {},
   "source": [
    "Q5. Repeatedly ask the user to enter a team name and how many games the team has won and\n",
    "how many they lost.\n",
    "Store this information in a dictionary where the keys are the team names and the values are list\n",
    "of the form [wins, losses]\n",
    "a) Using the dictionary created above, allow the user to enter a team name and print out\n",
    "the team’s winning percentage.\n",
    "b) Using the dictionary, create a list whose entries are the member of wins of each team.\n",
    "c) Using the dictionary, create a list of all those teams that have winning records."
   ]
  },
  {
   "cell_type": "code",
   "execution_count": 9,
   "id": "1d70afc1",
   "metadata": {},
   "outputs": [
    {
     "name": "stdout",
     "output_type": "stream",
     "text": [
      "2105586\n",
      "Enter Team Name: AJ\n",
      "How many games they have won: 10 \n",
      "How many games they have lost: 20\n",
      "Do you want to add another team? (Y/N): Y\n",
      "Enter Team Name: VJ\n",
      "How many games they have won: 30 \n",
      "How many games they have lost: 24\n",
      "Do you want to add another team? (Y/N): Y\n",
      "Enter Team Name: KJ\n",
      "How many games they have won: 22\n",
      "How many games they have lost: 30\n",
      "Do you want to add another team? (Y/N): N\n",
      "\n",
      "Team Information:\n",
      "{'aj': [10, 20], 'vj': [30, 24], 'kj': [22, 30]}\n",
      "\n",
      "Enter a Team Name to calculate winning percentage: VJ\n",
      "vj has a winning percentage of 55.56%\n",
      "\n",
      "List of Wins for each team: [10, 30, 22]\n",
      "\n",
      "Teams with Winning Records: ['vj']\n"
     ]
    }
   ],
   "source": [
    "print('2105586')\n",
    "teams = []\n",
    "information = {}\n",
    "\n",
    "while True:\n",
    "    team_name = input(\"Enter Team Name: \").lower()\n",
    "    win = int(input(\"How many games they have won: \"))\n",
    "    lose = int(input(\"How many games they have lost: \"))\n",
    "    \n",
    "    information[team_name] = [win, lose]\n",
    "\n",
    "    teams.append(team_name)\n",
    "\n",
    "    choice = input(\"Do you want to add another team? (Y/N): \")\n",
    "    if choice.lower() == \"n\":\n",
    "        break\n",
    "\n",
    "print(\"\\nTeam Information:\")\n",
    "print(information)\n",
    "\n",
    "team_name_input = input(\"\\nEnter a Team Name to calculate winning percentage: \").lower()\n",
    "if team_name_input in information:\n",
    "    team_score = information[team_name_input]\n",
    "    if team_score[1] != 0:  # To avoid division by zero\n",
    "        winning_percentage = (team_score[0] / (team_score[0] + team_score[1])) * 100\n",
    "        print(f\"{team_name_input} has a winning percentage of {winning_percentage:.2f}%\")\n",
    "\n",
    "else:\n",
    "    print(f\"Team {team_name_input} not found.\")\n",
    "\n",
    "wins_list = [information[team][0] for team in teams]\n",
    "print(\"\\nList of Wins for each team:\", wins_list)\n",
    "\n",
    "winning_teams = [team for team in information if information[team][0] > information[team][1]]\n",
    "print(\"\\nTeams with Winning Records:\", winning_teams)"
   ]
  }
 ],
 "metadata": {
  "kernelspec": {
   "display_name": "Python 3 (ipykernel)",
   "language": "python",
   "name": "python3"
  },
  "language_info": {
   "codemirror_mode": {
    "name": "ipython",
    "version": 3
   },
   "file_extension": ".py",
   "mimetype": "text/x-python",
   "name": "python",
   "nbconvert_exporter": "python",
   "pygments_lexer": "ipython3",
   "version": "3.10.9"
  }
 },
 "nbformat": 4,
 "nbformat_minor": 5
}
