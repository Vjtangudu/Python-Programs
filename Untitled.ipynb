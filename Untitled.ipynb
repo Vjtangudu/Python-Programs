{
 "cells": [
  {
   "cell_type": "code",
   "execution_count": 8,
   "id": "ee1cad8d",
   "metadata": {},
   "outputs": [
    {
     "name": "stdout",
     "output_type": "stream",
     "text": [
      "['Vijay', 'Vijay']\n",
      "Hi I'm Vijay Sankar, vjtangudu is myself Vijay insta id\n"
     ]
    }
   ],
   "source": [
    "import re\n",
    "str = 'Hi I am Vijay Sankar, vjtangudu is myself Vijay insta id'\n",
    "resul = re.findall(r'V\\w*',str)\n",
    "print(resul)\n",
    "result = re.sub(r\"I am\",\"I'm\",str)\n",
    "print(result)"
   ]
  }
 ],
 "metadata": {
  "kernelspec": {
   "display_name": "Python 3 (ipykernel)",
   "language": "python",
   "name": "python3"
  },
  "language_info": {
   "codemirror_mode": {
    "name": "ipython",
    "version": 3
   },
   "file_extension": ".py",
   "mimetype": "text/x-python",
   "name": "python",
   "nbconvert_exporter": "python",
   "pygments_lexer": "ipython3",
   "version": "3.10.9"
  }
 },
 "nbformat": 4,
 "nbformat_minor": 5
}
