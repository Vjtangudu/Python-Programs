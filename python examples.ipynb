{
 "cells": [
  {
   "cell_type": "code",
   "execution_count": 10,
   "id": "b6f43060",
   "metadata": {},
   "outputs": [
    {
     "name": "stdout",
     "output_type": "stream",
     "text": [
      "VIJAY [50, 60, 50, 70, 70]\n",
      "300\n",
      "60.0\n"
     ]
    }
   ],
   "source": [
    "class product:\n",
    "    def __init__(self,name,marks):\n",
    "        self.name = name\n",
    "        self.marks = marks\n",
    "        print(self.name,self.marks)\n",
    "    def percentage(self):\n",
    "        total = sum(self.marks)\n",
    "        print(total)\n",
    "        percent = (total/(len(self.marks)*100))*100\n",
    "        print(percent)\n",
    "\n",
    "p1 = product('VIJAY',[50,60,50,70,70])\n",
    "p1.percentage()"
   ]
  },
  {
   "cell_type": "code",
   "execution_count": 16,
   "id": "53afbaeb",
   "metadata": {},
   "outputs": [
    {
     "name": "stdout",
     "output_type": "stream",
     "text": [
      "DESTRUCTOR\n",
      "DESTRUCTOR\n",
      "VIJAY 2105586 CSE\n",
      "VANDAN 2105587 CSE\n",
      "DESTRUCTOR\n"
     ]
    }
   ],
   "source": [
    "class student:\n",
    "    major = 'CSE'\n",
    "    \n",
    "    def __init__(self,name,roll):\n",
    "        self.name = name\n",
    "        self.roll = roll\n",
    "    def __del__(self):\n",
    "        print('DESTRUCTOR')\n",
    "    \n",
    "    \n",
    "s1 = student('VIJAY',2105586)\n",
    "s2 = student('VANDAN',2105587)\n",
    "print(s1.name,s1.roll,s1.major)\n",
    "print(s2.name,s2.roll,s2.major)\n",
    "s1 = None"
   ]
  },
  {
   "cell_type": "code",
   "execution_count": 12,
   "id": "825c6b0c",
   "metadata": {},
   "outputs": [
    {
     "name": "stdout",
     "output_type": "stream",
     "text": [
      "VIJAY\n",
      "800000\n",
      "['python', 'c++', 'Java']\n"
     ]
    }
   ],
   "source": [
    "class programmer:\n",
    "    def setname(self,n):\n",
    "        self.name=n\n",
    "    def getname(self):\n",
    "        return self.name\n",
    "    def setsal(self,sal):\n",
    "        self.salary=sal\n",
    "    def getsal(self):\n",
    "        return self.salary\n",
    "    def settech(self,tech):\n",
    "        self.technos=tech\n",
    "    def gettech(self):\n",
    "        return self.technos\n",
    "    \n",
    "p1 = programmer()\n",
    "p1.setname('VIJAY')\n",
    "p1.setsal('800000')\n",
    "p1.settech(['python','c++','Java'])\n",
    "print(p1.getname())\n",
    "print(p1.getsal())\n",
    "print(p1.gettech())"
   ]
  },
  {
   "cell_type": "code",
   "execution_count": 8,
   "id": "edfd5629",
   "metadata": {},
   "outputs": [
    {
     "name": "stdout",
     "output_type": "stream",
     "text": [
      "3\n"
     ]
    }
   ],
   "source": [
    "class objcounter:\n",
    "    number = 0\n",
    "    \n",
    "    def __init__(self):\n",
    "        objcounter.number += 1\n",
    "        \n",
    "    def display():\n",
    "        print(objcounter.number)\n",
    "        \n",
    "o1 = objcounter()\n",
    "o2 = objcounter()\n",
    "o3 = objcounter()\n",
    "\n",
    "objcounter.display()"
   ]
  },
  {
   "cell_type": "code",
   "execution_count": 14,
   "id": "16ec48ba",
   "metadata": {},
   "outputs": [
    {
     "name": "stdout",
     "output_type": "stream",
     "text": [
      "BMW 2023 123\n",
      "ENGINE STARTED\n"
     ]
    }
   ],
   "source": [
    "class vechile:\n",
    "    def __init__(self,name,year):\n",
    "        self.name=name\n",
    "        self.year=year\n",
    "    class engine:\n",
    "        def __init__(self,number):\n",
    "            self.number=number\n",
    "        def displaystatus(self):\n",
    "            print(\"ENGINE STARTED\")\n",
    "\n",
    "c = vechile('BMW',2023)\n",
    "e = c.engine(123)\n",
    "print(c.name,c.year,e.number)\n",
    "e.displaystatus()"
   ]
  },
  {
   "cell_type": "code",
   "execution_count": 33,
   "id": "8d571182",
   "metadata": {},
   "outputs": [
    {
     "name": "stdout",
     "output_type": "stream",
     "text": [
      "CHANDU 19\n",
      "120/80\n",
      "12\n",
      "120/80\n",
      "11\n"
     ]
    }
   ],
   "source": [
    "class patient:\n",
    "    def __init__(self,name,age):\n",
    "        self.name = name\n",
    "        self.age = age\n",
    "        self.clinical = []\n",
    "    \n",
    "    def clinicaldata(self,clinical):\n",
    "        self.clinical.append(clinical)\n",
    "        \n",
    "    def display(self):\n",
    "        print(self.name,self.age)\n",
    "\n",
    "class clinical:\n",
    "    def __init__(self,data1,data2):\n",
    "        self.data1 = data1\n",
    "        self.data2 = data2\n",
    "    \n",
    "p = patient('CHANDU',19)\n",
    "c1 = clinical('120/80',12)\n",
    "p.clinicaldata(c1)\n",
    "\n",
    "c2 = clinical('120/80',11)\n",
    "p.clinicaldata(c2)\n",
    "\n",
    "p.display()\n",
    "for c in p.clinical:\n",
    "    print(c.data1)\n",
    "    print(c.data2)"
   ]
  },
  {
   "cell_type": "code",
   "execution_count": 36,
   "id": "0aa3de04",
   "metadata": {},
   "outputs": [
    {
     "name": "stdout",
     "output_type": "stream",
     "text": [
      "vijay\n",
      "810\n"
     ]
    }
   ],
   "source": [
    "class student:\n",
    "    def __init__(self,name,roll):\n",
    "        self.__name = name\n",
    "        self.__roll = roll\n",
    "        \n",
    "    def display(self):\n",
    "        print(self.__name)\n",
    "        print(self.__roll)\n",
    "\n",
    "s = student('vijay',810)\n",
    "s.display()"
   ]
  },
  {
   "cell_type": "code",
   "execution_count": 51,
   "id": "a811918f",
   "metadata": {},
   "outputs": [
    {
     "name": "stdout",
     "output_type": "stream",
     "text": [
      "True BMW 328i\n",
      "True BMW 528i\n",
      "Starting the car\n",
      "Button to stop the car\n",
      "Stopping the car\n"
     ]
    }
   ],
   "source": [
    "class BMW:\n",
    "    def __init__(self,name,model):\n",
    "        self.name = name\n",
    "        self.model = model\n",
    "    def start(self):\n",
    "        print('Starting the car')\n",
    "    def stop(self):\n",
    "        print('Stopping the car')\n",
    "\n",
    "class threeseries(BMW):\n",
    "    def __init__(self,cruisecontrolenabled,name,model):\n",
    "        BMW.__init__(self,name,model)\n",
    "        self.cruisecontrolenabled = cruisecontrolenabled\n",
    "    def start(self):\n",
    "        super().start()\n",
    "        print('Button to stop the car')\n",
    "        \n",
    "class fiveseries(BMW):\n",
    "    def __init__(self,parkingassistenabled,name,model):\n",
    "        super().__init__(name,model)\n",
    "        self.parkingassistenabled = parkingassistenabled\n",
    "        \n",
    "T3 = threeseries(True,'BMW','328i')\n",
    "print(T3.cruisecontrolenabled,T3.name,T3.model)\n",
    "T5 = fiveseries(True,'BMW','528i')\n",
    "print(T5.parkingassistenabled,T5.name,T5.model)\n",
    "T3.start()\n",
    "T3.stop()"
   ]
  },
  {
   "cell_type": "code",
   "execution_count": 43,
   "id": "06f5793c",
   "metadata": {},
   "outputs": [
    {
     "name": "stdout",
     "output_type": "stream",
     "text": [
      "Starting the airbus engine\n"
     ]
    }
   ],
   "source": [
    "class flight:\n",
    "    def __init__(self,engine):\n",
    "        self.engine = engine\n",
    "    def startengine(self):\n",
    "        self.engine.start()\n",
    "        \n",
    "class airbusengine():\n",
    "    def start(self):\n",
    "        print('Starting the airbus engine')\n",
    "\n",
    "class boingengine():\n",
    "    def start(self):\n",
    "        print('Starting the airbus engine')\n",
    "        \n",
    "ae = airbusengine()\n",
    "f = flight(ae)\n",
    "f.startengine()"
   ]
  },
  {
   "cell_type": "code",
   "execution_count": 53,
   "id": "403c2f05",
   "metadata": {},
   "outputs": [
    {
     "name": "stdout",
     "output_type": "stream",
     "text": [
      "True BMW 328i\n",
      "Button to start the car\n",
      "Button to stop the car\n"
     ]
    }
   ],
   "source": [
    "from abc import abstractmethod,ABC\n",
    "class BMW(ABC):\n",
    "    def __init__(self,name,model):\n",
    "        self.name = name\n",
    "        self.model = model\n",
    "    @abstractmethod\n",
    "    def start(self):\n",
    "        pass\n",
    "    @abstractmethod\n",
    "    def stop(self):\n",
    "        pass\n",
    "    @abstractmethod\n",
    "    def drive(self):\n",
    "        pass\n",
    "\n",
    "class threeseries(BMW):\n",
    "    def __init__(self,cruisecontrolenabled,name,model):\n",
    "        BMW.__init__(self,name,model)\n",
    "        self.cruisecontrolenabled = cruisecontrolenabled\n",
    "    def start(self):\n",
    "        super().start()\n",
    "        print('Button to start the car')\n",
    "    def stop(self):\n",
    "        super().start()\n",
    "        print('Button to stop the car')\n",
    "    def drive():\n",
    "        print('Three series is driving')\n",
    "        \n",
    "class fiveseries(BMW):\n",
    "    def __init__(self,parkingassistenabled,name,model):\n",
    "        super().__init__(name,model)\n",
    "        self.parkingassistenabled = parkingassistenabled\n",
    "    def drive():\n",
    "        print('Five series is driving')\n",
    "        \n",
    "T3 = threeseries(True,'BMW','328i')\n",
    "print(T3.cruisecontrolenabled,T3.name,T3.model)\n",
    "#T5 = fiveseries(True,'BMW','528i')\n",
    "#print(T5.parkingassistenabled,T5.name,T5.model)\n",
    "T3.start()\n",
    "T3.stop()"
   ]
  },
  {
   "cell_type": "code",
   "execution_count": 55,
   "id": "868cc4f6",
   "metadata": {},
   "outputs": [
    {
     "name": "stdout",
     "output_type": "stream",
     "text": [
      "Enter two number: 20 10\n",
      "30\n"
     ]
    }
   ],
   "source": [
    "a, b = [int(x) for x in input(\"Enter two number: \").split()]\n",
    "print(a+b)"
   ]
  },
  {
   "cell_type": "code",
   "execution_count": 56,
   "id": "dd837c9b",
   "metadata": {},
   "outputs": [
    {
     "ename": "overamountException",
     "evalue": "The amount entered is over the limit",
     "output_type": "error",
     "traceback": [
      "\u001b[1;31m---------------------------------------------------------------------------\u001b[0m",
      "\u001b[1;31moveramountException\u001b[0m                       Traceback (most recent call last)",
      "Cell \u001b[1;32mIn[56], line 9\u001b[0m\n\u001b[0;32m      6\u001b[0m     \u001b[38;5;28;01mif\u001b[39;00m(amount\u001b[38;5;241m>\u001b[39m\u001b[38;5;241m500\u001b[39m):\n\u001b[0;32m      7\u001b[0m         \u001b[38;5;28;01mraise\u001b[39;00m overamountException(\u001b[38;5;124m'\u001b[39m\u001b[38;5;124mThe amount entered is over the limit\u001b[39m\u001b[38;5;124m'\u001b[39m)\n\u001b[1;32m----> 9\u001b[0m \u001b[43mwithdraw\u001b[49m\u001b[43m(\u001b[49m\u001b[38;5;241;43m600\u001b[39;49m\u001b[43m)\u001b[49m\n",
      "Cell \u001b[1;32mIn[56], line 7\u001b[0m, in \u001b[0;36mwithdraw\u001b[1;34m(amount)\u001b[0m\n\u001b[0;32m      5\u001b[0m \u001b[38;5;28;01mdef\u001b[39;00m \u001b[38;5;21mwithdraw\u001b[39m(amount):\n\u001b[0;32m      6\u001b[0m     \u001b[38;5;28;01mif\u001b[39;00m(amount\u001b[38;5;241m>\u001b[39m\u001b[38;5;241m500\u001b[39m):\n\u001b[1;32m----> 7\u001b[0m         \u001b[38;5;28;01mraise\u001b[39;00m overamountException(\u001b[38;5;124m'\u001b[39m\u001b[38;5;124mThe amount entered is over the limit\u001b[39m\u001b[38;5;124m'\u001b[39m)\n",
      "\u001b[1;31moveramountException\u001b[0m: The amount entered is over the limit"
     ]
    }
   ],
   "source": [
    "class overamountException(Exception):\n",
    "    def __init__(self,msg):\n",
    "        self.msg = msg\n",
    "        \n",
    "def withdraw(amount):\n",
    "    if(amount>500):\n",
    "        raise overamountException('The amount entered is over the limit')\n",
    "    \n",
    "withdraw(600)"
   ]
  },
  {
   "cell_type": "code",
   "execution_count": 62,
   "id": "0076f925",
   "metadata": {},
   "outputs": [
    {
     "ename": "toyoungException",
     "evalue": "The age entered is not elgible for licence he/she is too old",
     "output_type": "error",
     "traceback": [
      "\u001b[1;31m---------------------------------------------------------------------------\u001b[0m",
      "\u001b[1;31mtoyoungException\u001b[0m                          Traceback (most recent call last)",
      "Cell \u001b[1;32mIn[62], line 19\u001b[0m\n\u001b[0;32m     15\u001b[0m         \u001b[38;5;28mprint\u001b[39m(\u001b[38;5;124m'\u001b[39m\u001b[38;5;124mThe age entered is elgible for licence\u001b[39m\u001b[38;5;124m'\u001b[39m)\n\u001b[0;32m     17\u001b[0m \u001b[38;5;66;03m#licenceagecheck(14)\u001b[39;00m\n\u001b[0;32m     18\u001b[0m \u001b[38;5;66;03m#licenceagecheck(19)\u001b[39;00m\n\u001b[1;32m---> 19\u001b[0m \u001b[43mlicenceagecheck\u001b[49m\u001b[43m(\u001b[49m\u001b[38;5;241;43m64\u001b[39;49m\u001b[43m)\u001b[49m\n",
      "Cell \u001b[1;32mIn[62], line 13\u001b[0m, in \u001b[0;36mlicenceagecheck\u001b[1;34m(age)\u001b[0m\n\u001b[0;32m     11\u001b[0m     \u001b[38;5;28;01mraise\u001b[39;00m toyoungException(\u001b[38;5;124m'\u001b[39m\u001b[38;5;124mThe age entered is not elgible for licence he/she is too young\u001b[39m\u001b[38;5;124m'\u001b[39m)\n\u001b[0;32m     12\u001b[0m \u001b[38;5;28;01melif\u001b[39;00m(age\u001b[38;5;241m>\u001b[39m\u001b[38;5;241m60\u001b[39m):\n\u001b[1;32m---> 13\u001b[0m     \u001b[38;5;28;01mraise\u001b[39;00m toyoungException(\u001b[38;5;124m'\u001b[39m\u001b[38;5;124mThe age entered is not elgible for licence he/she is too old\u001b[39m\u001b[38;5;124m'\u001b[39m)\n\u001b[0;32m     14\u001b[0m \u001b[38;5;28;01melse\u001b[39;00m:\n\u001b[0;32m     15\u001b[0m     \u001b[38;5;28mprint\u001b[39m(\u001b[38;5;124m'\u001b[39m\u001b[38;5;124mThe age entered is elgible for licence\u001b[39m\u001b[38;5;124m'\u001b[39m)\n",
      "\u001b[1;31mtoyoungException\u001b[0m: The age entered is not elgible for licence he/she is too old"
     ]
    }
   ],
   "source": [
    "class toyoungException(Exception):\n",
    "    def __init__(self,msg):\n",
    "        self.msg = msg\n",
    "        \n",
    "class tooldException(Exception):\n",
    "    def __init__(self,msg):\n",
    "        self.msg = msg\n",
    "\n",
    "def licenceagecheck(age):\n",
    "    if(age<18):\n",
    "        raise toyoungException('The age entered is not elgible for licence he/she is too young')\n",
    "    elif(age>60):\n",
    "        raise toyoungException('The age entered is not elgible for licence he/she is too old')\n",
    "    else:\n",
    "        print('The age entered is elgible for licence')\n",
    "        \n",
    "#licenceagecheck(14)\n",
    "#licenceagecheck(19)\n",
    "licenceagecheck(64)"
   ]
  },
  {
   "cell_type": "code",
   "execution_count": 63,
   "id": "33933e6e",
   "metadata": {},
   "outputs": [
    {
     "name": "stdout",
     "output_type": "stream",
     "text": [
      "Enter text: Hello\n"
     ]
    },
    {
     "data": {
      "text/plain": [
       "<function TextIOWrapper.close()>"
      ]
     },
     "execution_count": 63,
     "metadata": {},
     "output_type": "execute_result"
    }
   ],
   "source": [
    "f = open(\"myfile.txt\",\"w\")\n",
    "s = input(\"Enter text: \")\n",
    "f.write(s)\n",
    "f.close"
   ]
  },
  {
   "cell_type": "code",
   "execution_count": 65,
   "id": "98befe60",
   "metadata": {},
   "outputs": [
    {
     "name": "stdout",
     "output_type": "stream",
     "text": [
      "Hello!I'm vijay sankar tanguduemail  : vijaysankartangudu2004@gmail.com$\n"
     ]
    }
   ],
   "source": [
    "import os,sys\n",
    "if os.path.isfile('myfile.txt'):\n",
    "    f = open(\"myfile.txt\",\"r\")\n",
    "    s = f.read()\n",
    "    print(s)\n",
    "    f.close\n",
    "else:\n",
    "    printf('No such file')\n",
    "    sys.exit()"
   ]
  }
 ],
 "metadata": {
  "kernelspec": {
   "display_name": "Python 3 (ipykernel)",
   "language": "python",
   "name": "python3"
  },
  "language_info": {
   "codemirror_mode": {
    "name": "ipython",
    "version": 3
   },
   "file_extension": ".py",
   "mimetype": "text/x-python",
   "name": "python",
   "nbconvert_exporter": "python",
   "pygments_lexer": "ipython3",
   "version": "3.10.9"
  }
 },
 "nbformat": 4,
 "nbformat_minor": 5
}
