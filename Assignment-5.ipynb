{
 "cells": [
  {
   "cell_type": "markdown",
   "id": "ae350fa0",
   "metadata": {},
   "source": [
    "# ASSIGNMENT - 5\n",
    "## TANGUDU VIJAY SANKAR\n",
    "## 2105586"
   ]
  },
  {
   "cell_type": "markdown",
   "id": "0bb84db0",
   "metadata": {},
   "source": [
    "1. Write a program to find the sum of all elements of a list."
   ]
  },
  {
   "cell_type": "code",
   "execution_count": 67,
   "id": "e5515864",
   "metadata": {},
   "outputs": [
    {
     "name": "stdout",
     "output_type": "stream",
     "text": [
      "2105586\n",
      "Enter the Elements: 1,2,3,4,5\n",
      "The sum of the list is :  15\n"
     ]
    }
   ],
   "source": [
    "print('2105586')\n",
    "lst = [eval(x) for x in input('Enter the Elements: ').split(',')]\n",
    "print('The sum of the list is : ',sum(lst))"
   ]
  },
  {
   "cell_type": "markdown",
   "id": "efb6771c",
   "metadata": {},
   "source": [
    "2.Write a program to find the maximum and minimum element of a list."
   ]
  },
  {
   "cell_type": "code",
   "execution_count": 66,
   "id": "8849f77f",
   "metadata": {},
   "outputs": [
    {
     "name": "stdout",
     "output_type": "stream",
     "text": [
      "2105586\n",
      "Enter the Elements: 1,2,3,4\n",
      "The maximum and minimum of the list is :  4 1\n"
     ]
    }
   ],
   "source": [
    "print('2105586')\n",
    "lst = [eval(x) for x in input('Enter the Elements: ').split(',')]\n",
    "print('The maximum and minimum of the list is : ',max(lst),min(lst))"
   ]
  },
  {
   "cell_type": "markdown",
   "id": "b23d7956",
   "metadata": {},
   "source": [
    "3.Write a program to find the position of maximum and minimum element’s position in a\n",
    "list."
   ]
  },
  {
   "cell_type": "code",
   "execution_count": 65,
   "id": "3004ebc9",
   "metadata": {},
   "outputs": [
    {
     "name": "stdout",
     "output_type": "stream",
     "text": [
      "2105586\n",
      "Enter the Elements: 1,2,3,4,5\n",
      "The position max of 5 is :  4\n",
      "The position min of 1 is :  0\n"
     ]
    }
   ],
   "source": [
    "print('2105586')\n",
    "lst = [eval(x) for x in input('Enter the Elements: ').split(',')]\n",
    "a=max(lst)\n",
    "b=min(lst)\n",
    "print(f'The position max of {a} is : ',lst.index(max(lst)))\n",
    "print(f'The position min of {b} is : ',lst.index(min(lst)))"
   ]
  },
  {
   "cell_type": "markdown",
   "id": "cdf369c3",
   "metadata": {},
   "source": [
    "4. Write a program to print all the element in a list that are greater than a given value."
   ]
  },
  {
   "cell_type": "code",
   "execution_count": 64,
   "id": "dee17c9a",
   "metadata": {},
   "outputs": [
    {
     "name": "stdout",
     "output_type": "stream",
     "text": [
      "2105586\n",
      "Enter the Elements: 1,2,3,4,5,6\n",
      "Enter the number: 3\n",
      "4 5 6 "
     ]
    }
   ],
   "source": [
    "print('2105586')\n",
    "lst = [eval(x) for x in input('Enter the Elements: ').split(',')]\n",
    "n = int(input('Enter the number: '))\n",
    "for x in lst:\n",
    "    if x > n:\n",
    "        print(x,end=' ')"
   ]
  },
  {
   "cell_type": "markdown",
   "id": "a93fd104",
   "metadata": {},
   "source": [
    "5. Write a program to print all the common elements of 2 list."
   ]
  },
  {
   "cell_type": "code",
   "execution_count": 63,
   "id": "271607fc",
   "metadata": {},
   "outputs": [
    {
     "name": "stdout",
     "output_type": "stream",
     "text": [
      "2105586\n",
      "Enter the Elements: 1,2,3,4,5\n",
      "Enter the Elements: 3\n",
      "{3}\n"
     ]
    }
   ],
   "source": [
    "print('2105586')\n",
    "lst = [eval(x) for x in input('Enter the Elements: ').split(',')]\n",
    "lst1 = [eval(x) for x in input('Enter the Elements: ').split(',')]\n",
    "if set(lst) & set(lst1):\n",
    "    print(set(lst) & set(lst1))\n"
   ]
  },
  {
   "cell_type": "markdown",
   "id": "29f73fb1",
   "metadata": {},
   "source": [
    "6. Write a program to reverse a list."
   ]
  },
  {
   "cell_type": "code",
   "execution_count": 62,
   "id": "2daec43f",
   "metadata": {},
   "outputs": [
    {
     "name": "stdout",
     "output_type": "stream",
     "text": [
      "2105586\n",
      "Enter the Elements: 1,2,3,4\n",
      "The reverse of the list is :  [4, 3, 2, 1]\n"
     ]
    }
   ],
   "source": [
    "print('2105586')\n",
    "lst = [eval(x) for x in input('Enter the Elements: ').split(',')]\n",
    "lst.reverse()\n",
    "print('The reverse of the list is : ',lst)"
   ]
  },
  {
   "cell_type": "markdown",
   "id": "f697a8c6",
   "metadata": {},
   "source": [
    "7. Write a program to find the second largest and second smallest value from a list."
   ]
  },
  {
   "cell_type": "code",
   "execution_count": 61,
   "id": "ebc435f6",
   "metadata": {},
   "outputs": [
    {
     "name": "stdout",
     "output_type": "stream",
     "text": [
      "2105586\n",
      "Enter the Elements: 1,10,20,30,4\n",
      "The maximum and minimum of the list is :  20 4\n"
     ]
    }
   ],
   "source": [
    "print('2105586')\n",
    "lst = [eval(x) for x in input('Enter the Elements: ').split(',')]\n",
    "lst.remove(max(lst))\n",
    "lst.remove(min(lst))\n",
    "print('The maximum and minimum of the list is : ',max(lst),min(lst))"
   ]
  },
  {
   "cell_type": "markdown",
   "id": "941e9f61",
   "metadata": {},
   "source": [
    "8. Write a program to find the average of all elements in a list."
   ]
  },
  {
   "cell_type": "code",
   "execution_count": 60,
   "id": "f5bbfa28",
   "metadata": {},
   "outputs": [
    {
     "name": "stdout",
     "output_type": "stream",
     "text": [
      "2105586\n",
      "Enter the Elements: 1,2,3,4,5\n",
      "The average of the list is :  3.0\n"
     ]
    }
   ],
   "source": [
    "print('2105586')\n",
    "lst = [eval(x) for x in input('Enter the Elements: ').split(',')]\n",
    "print('The average of the list is : ',sum(lst)/len(lst))"
   ]
  },
  {
   "cell_type": "markdown",
   "id": "0c015055",
   "metadata": {},
   "source": [
    "9. Write a program to to generate random numbers within a given range and store it in a list."
   ]
  },
  {
   "cell_type": "code",
   "execution_count": 59,
   "id": "db9858fa",
   "metadata": {},
   "outputs": [
    {
     "name": "stdout",
     "output_type": "stream",
     "text": [
      "2105586\n",
      "Enter the range: 10,30\n",
      "[27, 28, 28, 10, 21]\n"
     ]
    }
   ],
   "source": [
    "print('2105586')\n",
    "import random as r\n",
    "n,m = [int(x) for x in input('Enter the range: ').split(',')]\n",
    "lst = []\n",
    "for i in range(5):\n",
    "    a=r.randint(n,m)\n",
    "    lst.append(a)\n",
    "print(lst)\n"
   ]
  },
  {
   "cell_type": "markdown",
   "id": "b3307262",
   "metadata": {},
   "source": [
    "10. Write a program to split the even and odd elements into 2 different lists."
   ]
  },
  {
   "cell_type": "code",
   "execution_count": 58,
   "id": "255d25dc",
   "metadata": {},
   "outputs": [
    {
     "name": "stdout",
     "output_type": "stream",
     "text": [
      "2105586\n",
      "Enter the Elements: 1,2,3,4,5,6\n",
      "Even List :  [2, 4, 6]\n",
      "Odd List :  [1, 3, 5]\n"
     ]
    }
   ],
   "source": [
    "print('2105586')\n",
    "lst = [eval(x) for x in input('Enter the Elements: ').split(',')]\n",
    "even = []\n",
    "odd = []\n",
    "for x in lst:\n",
    "    if x%2 == 0:\n",
    "        even.append(x)\n",
    "    else:\n",
    "        odd.append(x)\n",
    "print('Even List : ',even)\n",
    "print('Odd List : ',odd)"
   ]
  },
  {
   "cell_type": "markdown",
   "id": "10693526",
   "metadata": {},
   "source": [
    "11. Write a Python program to create a tuple"
   ]
  },
  {
   "cell_type": "code",
   "execution_count": 57,
   "id": "7688c6ed",
   "metadata": {},
   "outputs": [
    {
     "name": "stdout",
     "output_type": "stream",
     "text": [
      "2105586\n",
      "Enter the Elements: 1,2,3\n",
      "The sum of the list is :  (1, 2, 3)\n",
      "<class 'tuple'>\n"
     ]
    }
   ],
   "source": [
    "print('2105586')\n",
    "tuple1 = tuple(eval(x) for x in input('Enter the Elements: ').split(','))\n",
    "print('The sum of the list is : ',tuple1)\n",
    "print(type(tuple1))"
   ]
  },
  {
   "cell_type": "markdown",
   "id": "f5960c85",
   "metadata": {},
   "source": [
    "12. Write a Python program to create a tuple with different data types."
   ]
  },
  {
   "cell_type": "code",
   "execution_count": 56,
   "id": "01ff5afc",
   "metadata": {},
   "outputs": [
    {
     "name": "stdout",
     "output_type": "stream",
     "text": [
      "2105586\n",
      "Enter the Elements: 1,2,3,4\n",
      "The sum of the list is :  ('1', '2', '3', '4')\n",
      "<class 'tuple'>\n"
     ]
    }
   ],
   "source": [
    "print('2105586')\n",
    "tuple1 = tuple(x for x in input('Enter the Elements: ').split(','))\n",
    "print('The sum of the list is : ',tuple1)\n",
    "print(type(tuple1))"
   ]
  },
  {
   "cell_type": "markdown",
   "id": "0a5e31e4",
   "metadata": {},
   "source": [
    "13. Write a Python program to unpack a tuple in several variables."
   ]
  },
  {
   "cell_type": "code",
   "execution_count": 55,
   "id": "399dae60",
   "metadata": {},
   "outputs": [
    {
     "name": "stdout",
     "output_type": "stream",
     "text": [
      "2105586\n",
      "Enter the Elements: 10,20,30\n",
      "Variable 1: 10\n",
      "Variable 2: 20\n",
      "Variable 3: 30\n"
     ]
    }
   ],
   "source": [
    "print('2105586')\n",
    "tuple1 = tuple(x for x in input('Enter the Elements: ').split(','))\n",
    "v1,v2,v3 = tuple1\n",
    "print(\"Variable 1:\", v1)\n",
    "print(\"Variable 2:\", v2)\n",
    "print(\"Variable 3:\", v3)"
   ]
  },
  {
   "cell_type": "markdown",
   "id": "8d569f09",
   "metadata": {},
   "source": [
    "14. Write a Python program to add an item in a tuple."
   ]
  },
  {
   "cell_type": "code",
   "execution_count": 54,
   "id": "2f3e50f9",
   "metadata": {},
   "outputs": [
    {
     "name": "stdout",
     "output_type": "stream",
     "text": [
      "2105586\n",
      "Enter : 4\n",
      "(1, 2, 3, 4)\n"
     ]
    }
   ],
   "source": [
    "print('2105586')\n",
    "tuple1 = (1,2,3)\n",
    "enter = int(input('Enter : '))\n",
    "tuple1 = tuple1+(enter,)\n",
    "print(tuple1)"
   ]
  },
  {
   "cell_type": "markdown",
   "id": "0cd777d4",
   "metadata": {},
   "source": [
    "15. Write a Python program to convert a tuple to a string."
   ]
  },
  {
   "cell_type": "code",
   "execution_count": 52,
   "id": "6310e929",
   "metadata": {},
   "outputs": [
    {
     "name": "stdout",
     "output_type": "stream",
     "text": [
      "2105586\n",
      "Enter the Elements: 1,2,3,4\n",
      "('1', '2', '3', '4')\n"
     ]
    }
   ],
   "source": [
    "print('2105586')\n",
    "tuple1 = tuple(x for x in input('Enter the Elements: ').split(','))\n",
    "tuple2 = tuple(map(str, tuple1))\n",
    "print(tuple2)"
   ]
  },
  {
   "cell_type": "markdown",
   "id": "2d033c3a",
   "metadata": {},
   "source": [
    "16. Write a Python program to get the 4th element and 4th element from last of a tuple."
   ]
  },
  {
   "cell_type": "code",
   "execution_count": 50,
   "id": "e9af4169",
   "metadata": {},
   "outputs": [
    {
     "name": "stdout",
     "output_type": "stream",
     "text": [
      "2105586\n",
      "Enter the Elements: 1,2,3,4,5,6,7,8,9\n",
      "The the 4th element and 4th element from last of a tuple :  4 6\n"
     ]
    }
   ],
   "source": [
    "print('2105586')\n",
    "tuple1 = tuple(x for x in input('Enter the Elements: ').split(','))\n",
    "print('The the 4th element and 4th element from last of a tuple : ',tuple1[3],tuple1[-4])"
   ]
  },
  {
   "cell_type": "markdown",
   "id": "2c212f76",
   "metadata": {},
   "source": [
    "17. Write a Python program to find the repeated items of a tuple."
   ]
  },
  {
   "cell_type": "code",
   "execution_count": 49,
   "id": "02bbb20b",
   "metadata": {},
   "outputs": [
    {
     "name": "stdout",
     "output_type": "stream",
     "text": [
      "2105586\n",
      "Enter the Elements: 1,2,3,3,4,2,5,6\n",
      "Repeated Items: {'3', '2'}\n"
     ]
    }
   ],
   "source": [
    "print('2105586')\n",
    "tuple1 = tuple(x for x in input('Enter the Elements: ').split(','))\n",
    "seen = set()\n",
    "repeated_items = set()\n",
    "\n",
    "for item in tuple1:\n",
    "    if item in seen:\n",
    "        repeated_items.add(item)\n",
    "    else:\n",
    "        seen.add(item)\n",
    "\n",
    "print(\"Repeated Items:\", repeated_items)\n"
   ]
  },
  {
   "cell_type": "markdown",
   "id": "4475dd3c",
   "metadata": {},
   "source": [
    "18. Write a Python program to check whether an element exists within a tuple."
   ]
  },
  {
   "cell_type": "code",
   "execution_count": 47,
   "id": "90945212",
   "metadata": {},
   "outputs": [
    {
     "name": "stdout",
     "output_type": "stream",
     "text": [
      "2105586\n",
      "Enter the Elements: 1,2,3,4,5\n",
      "Enter the number to find: 3\n",
      "(1, 2, 3, 4, 5)\n",
      "3 exists in the tuple\n"
     ]
    }
   ],
   "source": [
    "print('2105586')\n",
    "tuple1 = tuple(int(x) for x in input('Enter the Elements: ').split(','))\n",
    "n = int(input('Enter the number to find: '))\n",
    "print(tuple1)\n",
    "for x in tuple1:\n",
    "    if x == n:\n",
    "        print(f'{n} exists in the tuple')\n"
   ]
  },
  {
   "cell_type": "markdown",
   "id": "9e08ce61",
   "metadata": {},
   "source": [
    "19. Write a Python program to slice a tuple."
   ]
  },
  {
   "cell_type": "code",
   "execution_count": 46,
   "id": "eff3ba9f",
   "metadata": {},
   "outputs": [
    {
     "name": "stdout",
     "output_type": "stream",
     "text": [
      "2105586\n",
      "Enter the Elements: 1,2,3,4,5\n",
      "Orginal Tuple  (1, 2, 3, 4, 5)\n",
      "Slice Tuple  (3, 4, 5)\n"
     ]
    }
   ],
   "source": [
    "print('2105586')\n",
    "tuple1 = tuple(int(x) for x in input('Enter the Elements: ').split(','))\n",
    "print('Orginal Tuple ',tuple1)\n",
    "print('Slice Tuple ',tuple1[2:6])"
   ]
  },
  {
   "cell_type": "markdown",
   "id": "9d89fc7b",
   "metadata": {},
   "source": [
    "20. Write a Python program to find the index of an item of a tuple."
   ]
  },
  {
   "cell_type": "code",
   "execution_count": 45,
   "id": "6ba84571",
   "metadata": {},
   "outputs": [
    {
     "name": "stdout",
     "output_type": "stream",
     "text": [
      "2105586\n",
      "Enter the Elements: 1,2,3,4\n",
      "Enter the number to find you want to find index: 2\n",
      "Index of 2 is 1\n"
     ]
    }
   ],
   "source": [
    "print('2105586')\n",
    "tuple1 = tuple(int(x) for x in input('Enter the Elements: ').split(','))\n",
    "n = int(input('Enter the number to find you want to find index: '))\n",
    "print(f'Index of {n} is',tuple1.index(n))"
   ]
  },
  {
   "cell_type": "markdown",
   "id": "17f300f5",
   "metadata": {},
   "source": [
    "21. Write a Python program to find the length of a tuple."
   ]
  },
  {
   "cell_type": "code",
   "execution_count": 44,
   "id": "fcc2b870",
   "metadata": {},
   "outputs": [
    {
     "name": "stdout",
     "output_type": "stream",
     "text": [
      "2105586\n",
      "Enter the Elements: 8,1,0\n",
      "Length of the tuple is 3\n"
     ]
    }
   ],
   "source": [
    "print('2105586')\n",
    "tuple1 = tuple(x for x in input('Enter the Elements: ').split(','))\n",
    "print('Length of the tuple is',len(tuple1))"
   ]
  },
  {
   "cell_type": "markdown",
   "id": "10efaa66",
   "metadata": {},
   "source": [
    "22. Write a Python program to convert a tuple to a dictionary."
   ]
  },
  {
   "cell_type": "code",
   "execution_count": 43,
   "id": "2afd8ad7",
   "metadata": {},
   "outputs": [
    {
     "name": "stdout",
     "output_type": "stream",
     "text": [
      "2105586\n",
      "Enter the Elements: vijay,sankar\n",
      "Enter the Elements: 810,810\n",
      "The result Dict:  {'vijay': '810', 'sankar': '810'}\n"
     ]
    }
   ],
   "source": [
    "print('2105586')\n",
    "tuple1 = tuple(x for x in input('Enter the Elements: ').split(','))\n",
    "tuple2 = tuple(x for x in input('Enter the Elements: ').split(','))\n",
    "if len(tuple1) == len(tuple2):\n",
    "    resultDictionary = dict(zip(tuple1,tuple2))\n",
    "print('The result Dict: ',resultDictionary)"
   ]
  },
  {
   "cell_type": "markdown",
   "id": "fee2e99f",
   "metadata": {},
   "source": [
    "23. Write a Python program to unzip a list of tuples into individual lists."
   ]
  },
  {
   "cell_type": "code",
   "execution_count": 42,
   "id": "89539591",
   "metadata": {},
   "outputs": [
    {
     "name": "stdout",
     "output_type": "stream",
     "text": [
      "2105586\n",
      "[(1, 3, 5), (2, 4, 6)]\n"
     ]
    }
   ],
   "source": [
    "print('2105586')\n",
    "tuple1 = [(1, 2), (3, 4), (5, 6)]\n",
    "print(list(zip(*tuple1)))"
   ]
  },
  {
   "cell_type": "markdown",
   "id": "f998a134",
   "metadata": {},
   "source": [
    "24. Write a Python program to reverse a tuple."
   ]
  },
  {
   "cell_type": "code",
   "execution_count": 41,
   "id": "f7eb144f",
   "metadata": {},
   "outputs": [
    {
     "name": "stdout",
     "output_type": "stream",
     "text": [
      "2105586\n",
      "Enter the Elements: 1,2,3,4,5\n",
      "Reversed Tuple: ('5', '4', '3', '2', '1')\n"
     ]
    }
   ],
   "source": [
    "print('2105586')\n",
    "tuple1 = tuple(x for x in input('Enter the Elements: ').split(','))\n",
    "print('Reversed Tuple:',tuple1[::-1])"
   ]
  },
  {
   "cell_type": "markdown",
   "id": "32f9b019",
   "metadata": {},
   "source": [
    "25. Write a Python program to convert a list of tuples into a dictionary."
   ]
  },
  {
   "cell_type": "code",
   "execution_count": 40,
   "id": "53858ebd",
   "metadata": {},
   "outputs": [
    {
     "name": "stdout",
     "output_type": "stream",
     "text": [
      "2105586\n",
      "{'Nakul': [93], 'Shivansh': [45], 'Samved': [65], 'Yash': [88], 'Vidit': [70], 'Pradeep': [52]}\n"
     ]
    }
   ],
   "source": [
    "print('2105586')\n",
    "list_1 = [(\"Nakul\", 93), (\"Shivansh\", 45), (\"Samved\", 65),\n",
    "\t\t(\"Yash\", 88), (\"Vidit\", 70), (\"Pradeep\", 52)]\n",
    "dict_1 = dict()\n",
    "\n",
    "for student, score in list_1:\n",
    "    dict_1.setdefault(student, []).append(score)\n",
    "print(dict_1)"
   ]
  },
  {
   "cell_type": "markdown",
   "id": "8ed26b11",
   "metadata": {},
   "source": [
    "26. Write a Python program to print a tuple with string formatting.\n",
    "Sample tuple : (100, 200, 300)\n",
    "Output : This is a tuple (100, 200, 300)"
   ]
  },
  {
   "cell_type": "code",
   "execution_count": 39,
   "id": "a8e65d13",
   "metadata": {},
   "outputs": [
    {
     "name": "stdout",
     "output_type": "stream",
     "text": [
      "2105586\n",
      "This is a tuple (100, 200, 300)\n"
     ]
    }
   ],
   "source": [
    "print('2105586')\n",
    "my_tuple = (100, 200, 300)\n",
    "formatted_tuple = \"This is a tuple {}\".format(my_tuple)\n",
    "print(formatted_tuple)\n"
   ]
  },
  {
   "cell_type": "markdown",
   "id": "37f3b9de",
   "metadata": {},
   "source": [
    "27. Write a Python program to replace last value of tuples in a list.\n",
    "Sample list: [(10, 20, 40), (40, 50, 60), (70, 80, 90)]\n",
    "Expected Output: [(10, 20, 100), (40, 50, 100), (70, 80, 100)]"
   ]
  },
  {
   "cell_type": "code",
   "execution_count": 38,
   "id": "a541ae52",
   "metadata": {},
   "outputs": [
    {
     "name": "stdout",
     "output_type": "stream",
     "text": [
      "2105586\n",
      "Modified list: [(10, 20, 100), (40, 50, 100), (70, 80, 100)]\n"
     ]
    }
   ],
   "source": [
    "print('2105586')\n",
    "sample_list = [(10, 20, 40), (40, 50, 60), (70, 80, 90)]\n",
    "new_value = 100\n",
    "modified_list = [tuple(t[:-1] + (new_value,)) for t in sample_list]\n",
    "print(\"Modified list:\", modified_list)\n"
   ]
  },
  {
   "cell_type": "markdown",
   "id": "96acf4ea",
   "metadata": {},
   "source": [
    "28. Write a Python program to replace last value of tuples in a list.\n",
    "Sample data: [(), (), ('',), ('a', 'b'), ('a', 'b', 'c'), ('d')]\n",
    "Expected output: [('',), ('a', 'b'), ('a', 'b', 'c'), 'd']"
   ]
  },
  {
   "cell_type": "code",
   "execution_count": 37,
   "id": "75406c24",
   "metadata": {},
   "outputs": [
    {
     "name": "stdout",
     "output_type": "stream",
     "text": [
      "2105586\n",
      "[(), (), (), ('a',), ('a', 'b'), '']\n"
     ]
    }
   ],
   "source": [
    "print('2105586')\n",
    "def replace_last_value(list_of_tuples):\n",
    "  new_list_of_tuples = []\n",
    "  for tuple in list_of_tuples:\n",
    "    if tuple:\n",
    "      new_list_of_tuples.append(tuple[:-1])\n",
    "    else:\n",
    "      new_list_of_tuples.append(tuple)\n",
    "  return new_list_of_tuples\n",
    "list_of_tuples = [(), (), ('',), ('a', 'b'), ('a', 'b', 'c'), ('d')]\n",
    "new_list_of_tuples = replace_last_value(list_of_tuples)\n",
    "print(new_list_of_tuples)"
   ]
  },
  {
   "cell_type": "markdown",
   "id": "0abbef1a",
   "metadata": {},
   "source": [
    "29. Write a Python program to sort a tuple by its float element.\n",
    "Sample data: [('item1', '12.20'), ('item2', '15.10'), ('item3', '24.5')]\n",
    "Expected Output: [('item3', '24.5'), ('item2', '15.10'), ('item1', '12.20')]"
   ]
  },
  {
   "cell_type": "code",
   "execution_count": 36,
   "id": "14e33593",
   "metadata": {},
   "outputs": [
    {
     "name": "stdout",
     "output_type": "stream",
     "text": [
      "2105586\n",
      "Sorted tuple: [('item1', '12.20'), ('item2', '15.10'), ('item3', '24.5')]\n"
     ]
    }
   ],
   "source": [
    "print('2105586')\n",
    "sample_data = [('item1', '12.20'), ('item2', '15.10'), ('item3', '24.5')]\n",
    "sorted_data = sorted(sample_data, key=lambda x: float(x[1]))\n",
    "print(\"Sorted tuple:\", sorted_data)\n"
   ]
  },
  {
   "cell_type": "markdown",
   "id": "f613a48b",
   "metadata": {},
   "source": [
    "30. Write a Python program to count the elements in a list until an element is a tuple."
   ]
  },
  {
   "cell_type": "code",
   "execution_count": 35,
   "id": "7afb082a",
   "metadata": {},
   "outputs": [
    {
     "name": "stdout",
     "output_type": "stream",
     "text": [
      "2105586\n",
      "Number of elements until tuple: 3\n"
     ]
    }
   ],
   "source": [
    "print('2105586')\n",
    "my_list = [1, 2, 3, (4, 5), 6, 7, 8]\n",
    "count_until_tuple = 0\n",
    "for element in my_list:\n",
    "    if isinstance(element, tuple):\n",
    "        break\n",
    "    count_until_tuple += 1\n",
    "\n",
    "print(\"Number of elements until tuple:\", count_until_tuple)"
   ]
  }
 ],
 "metadata": {
  "kernelspec": {
   "display_name": "Python 3 (ipykernel)",
   "language": "python",
   "name": "python3"
  },
  "language_info": {
   "codemirror_mode": {
    "name": "ipython",
    "version": 3
   },
   "file_extension": ".py",
   "mimetype": "text/x-python",
   "name": "python",
   "nbconvert_exporter": "python",
   "pygments_lexer": "ipython3",
   "version": "3.10.9"
  }
 },
 "nbformat": 4,
 "nbformat_minor": 5
}
