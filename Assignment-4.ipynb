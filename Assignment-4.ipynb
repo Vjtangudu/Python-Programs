{
 "cells": [
  {
   "cell_type": "markdown",
   "id": "c790ef55",
   "metadata": {},
   "source": [
    "# ASSIGNMENT-4\n",
    "## TANGUDU VIJAY SANKAR\n",
    "## 2105586"
   ]
  },
  {
   "cell_type": "markdown",
   "id": "b5d4c5e0",
   "metadata": {},
   "source": [
    "Q1. Write a Python program that will print your name 10 times"
   ]
  },
  {
   "cell_type": "code",
   "execution_count": 2,
   "id": "0f00e0e8",
   "metadata": {},
   "outputs": [
    {
     "name": "stdout",
     "output_type": "stream",
     "text": [
      "2105586\n",
      "1 Vijay Sankar\n",
      "2 Vijay Sankar\n",
      "3 Vijay Sankar\n",
      "4 Vijay Sankar\n",
      "5 Vijay Sankar\n",
      "6 Vijay Sankar\n",
      "7 Vijay Sankar\n",
      "8 Vijay Sankar\n",
      "9 Vijay Sankar\n",
      "10 Vijay Sankar\n"
     ]
    }
   ],
   "source": [
    "print('2105586')\n",
    "for i in range(1,11):\n",
    "    print(i,\"Vijay Sankar\")"
   ]
  },
  {
   "cell_type": "markdown",
   "id": "d6c0e552",
   "metadata": {},
   "source": [
    "Q2. Write a Python program that will print 1 2 3 4 5 6 7 8 9 10"
   ]
  },
  {
   "cell_type": "code",
   "execution_count": 3,
   "id": "366aeb8d",
   "metadata": {},
   "outputs": [
    {
     "name": "stdout",
     "output_type": "stream",
     "text": [
      "2105586\n",
      "1 2 3 4 5 6 7 8 9 10 "
     ]
    }
   ],
   "source": [
    "print('2105586')\n",
    "for i in range(1,11):\n",
    "    print(i,end=\" \")"
   ]
  },
  {
   "cell_type": "markdown",
   "id": "d071b42e",
   "metadata": {},
   "source": [
    "Q3. Write a Python program that will print the number between m and n"
   ]
  },
  {
   "cell_type": "code",
   "execution_count": 4,
   "id": "15b58eef",
   "metadata": {},
   "outputs": [
    {
     "name": "stdout",
     "output_type": "stream",
     "text": [
      "2105586\n",
      "enter the starting range20\n",
      "enter the ending range30\n",
      "20\n",
      "21\n",
      "22\n",
      "23\n",
      "24\n",
      "25\n",
      "26\n",
      "27\n",
      "28\n",
      "29\n"
     ]
    }
   ],
   "source": [
    "print('2105586')\n",
    "m=int(input(\"enter the starting range\"))\n",
    "n=int(input(\"enter the ending range\"))\n",
    "for i in range(m,n):\n",
    "    print(i)"
   ]
  },
  {
   "cell_type": "markdown",
   "id": "e41d2d29",
   "metadata": {},
   "source": [
    "Q4. Write a Python program that will print all odd number between m and n"
   ]
  },
  {
   "cell_type": "code",
   "execution_count": 5,
   "id": "cc1c3ea1",
   "metadata": {},
   "outputs": [
    {
     "name": "stdout",
     "output_type": "stream",
     "text": [
      "2105586\n",
      "enter the starting range20\n",
      "enter the ending range30\n",
      "21\n",
      "23\n",
      "25\n",
      "27\n",
      "29\n"
     ]
    }
   ],
   "source": [
    "print('2105586')\n",
    "m=int(input(\"enter the starting range\"))\n",
    "n=int(input(\"enter the ending range\"))\n",
    "for i in range(m,n):\n",
    "    if(i%2!=0):\n",
    "        print(i)\n",
    "    "
   ]
  },
  {
   "cell_type": "markdown",
   "id": "1fa6fa3b",
   "metadata": {},
   "source": [
    "Q5. Write a Python program that will print 9 7 5 3 1 -1 -3 -5 -7 -9"
   ]
  },
  {
   "cell_type": "code",
   "execution_count": 6,
   "id": "7cb4392d",
   "metadata": {},
   "outputs": [
    {
     "name": "stdout",
     "output_type": "stream",
     "text": [
      "2105586\n",
      "9 7 5 3 1 -1 -3 -5 -7 -9 "
     ]
    }
   ],
   "source": [
    "print('2105586')\n",
    "for i in range(9,-11,-2):\n",
    "    print(i,end=\" \")"
   ]
  },
  {
   "cell_type": "markdown",
   "id": "860899dc",
   "metadata": {},
   "source": [
    "Q6. Write a Python program that will print sum of the following series\n",
    "\n",
    "Sum = 1+ 1⁄2 + 1/3 + .....1/n"
   ]
  },
  {
   "cell_type": "code",
   "execution_count": 7,
   "id": "711535bf",
   "metadata": {},
   "outputs": [
    {
     "name": "stdout",
     "output_type": "stream",
     "text": [
      "2105586\n",
      "enter the value of n: 20\n",
      "sum of series = 3.597739657143682\n"
     ]
    }
   ],
   "source": [
    "print('2105586')\n",
    "sum_value = 0\n",
    "n = int(input(\"enter the value of n: \"))\n",
    "\n",
    "for i in range(1, n + 1):\n",
    "    sum_value = sum_value + 1/i\n",
    "\n",
    "print(\"sum of series =\", sum_value)\n"
   ]
  },
  {
   "cell_type": "markdown",
   "id": "fe4ae1b6",
   "metadata": {},
   "source": [
    "Q7 Write a Python program that will print sum of the following series\n",
    "\n",
    "Sum = 1+ 1⁄2! + 1/3! + .....1/n!"
   ]
  },
  {
   "cell_type": "code",
   "execution_count": 8,
   "id": "05165afb",
   "metadata": {},
   "outputs": [
    {
     "name": "stdout",
     "output_type": "stream",
     "text": [
      "2105586\n",
      "enter the value of n: 5\n",
      "sum of series = 1.7166666666666668\n"
     ]
    }
   ],
   "source": [
    "print('2105586')\n",
    "import math\n",
    "sum_value = 0\n",
    "n = int(input(\"enter the value of n: \"))\n",
    "\n",
    "for i in range(1, n + 1):\n",
    "    sum_value = sum_value + 1/math.factorial(i)\n",
    "\n",
    "print(\"sum of series =\", sum_value)\n"
   ]
  },
  {
   "cell_type": "markdown",
   "id": "7ffda1d8",
   "metadata": {},
   "source": [
    "Q8. Write a Python program that will print sum of the following series\n",
    "\n",
    "e^x = 1+ x + x^2/2! +x^3/3! .....x^n/n!"
   ]
  },
  {
   "cell_type": "code",
   "execution_count": 9,
   "id": "8f672430",
   "metadata": {},
   "outputs": [
    {
     "name": "stdout",
     "output_type": "stream",
     "text": [
      "2105586\n",
      "Sum: 20.009151785714284\n"
     ]
    }
   ],
   "source": [
    "print('2105586')\n",
    "import math\n",
    "x, n = 3,8\n",
    "sum_series = sum(x**i / math.factorial(i) for i in range(n + 1))\n",
    "print(\"Sum:\", sum_series)\n"
   ]
  },
  {
   "cell_type": "markdown",
   "id": "60e197e6",
   "metadata": {},
   "source": [
    "Q9. Write a Python program that will read x and compute sin(x)\n",
    "(Hints: Use Taylor’s series expansion)"
   ]
  },
  {
   "cell_type": "code",
   "execution_count": 10,
   "id": "83928d15",
   "metadata": {},
   "outputs": [
    {
     "name": "stdout",
     "output_type": "stream",
     "text": [
      "2105586\n",
      "enter the value of x in radians:3.5\n",
      "sin(x): -0.35078323277891615\n"
     ]
    }
   ],
   "source": [
    "print('2105586')\n",
    "import math\n",
    "x = float(input(\"enter the value of x in radians:\"))\n",
    "sin_x = sum((-1)**i * x**(2*i + 1) / math.factorial(2*i + 1) for i in range(10))\n",
    "print(\"sin(x):\", sin_x)\n"
   ]
  },
  {
   "cell_type": "markdown",
   "id": "1bd8ce9c",
   "metadata": {},
   "source": [
    "Q10. Write a Python program that will read x and compute cos(x)\n",
    "(Hints: Use Taylor’s series expansion)"
   ]
  },
  {
   "cell_type": "code",
   "execution_count": 11,
   "id": "9219be94",
   "metadata": {},
   "outputs": [
    {
     "name": "stdout",
     "output_type": "stream",
     "text": [
      "2105586\n",
      "enter the value of x in radians:4.5\n",
      "cos(x): -0.2108003636640953\n"
     ]
    }
   ],
   "source": [
    "print('2105586')\n",
    "import math\n",
    "x = float(input(\"enter the value of x in radians:\"))\n",
    "cos_x = sum((-1)**i * x**(2*i) / math.factorial(2*i) for i in range(10))\n",
    "print(\"cos(x):\", cos_x)\n"
   ]
  },
  {
   "cell_type": "markdown",
   "id": "a7380873",
   "metadata": {},
   "source": [
    "Q11 Write a Python program that will check the number is prime or composite."
   ]
  },
  {
   "cell_type": "code",
   "execution_count": 12,
   "id": "d52a2502",
   "metadata": {},
   "outputs": [
    {
     "name": "stdout",
     "output_type": "stream",
     "text": [
      "2105586\n",
      "Enter a number: 56\n",
      "Composite\n"
     ]
    }
   ],
   "source": [
    "print('2105586')\n",
    "def is_prime(num):\n",
    "    if num < 2:\n",
    "        return False\n",
    "    for i in range(2, int(num**0.5) + 1):\n",
    "        if num % i == 0:\n",
    "            return False\n",
    "    return True\n",
    "\n",
    "number = int(input(\"Enter a number: \"))\n",
    "if is_prime(number):\n",
    "    print(\"Prime\")\n",
    "else:\n",
    "    print(\"Composite\")\n"
   ]
  },
  {
   "cell_type": "markdown",
   "id": "373e97ab",
   "metadata": {},
   "source": [
    "Q12. Write a Python program that will read two integers and compute GCD and LCM."
   ]
  },
  {
   "cell_type": "code",
   "execution_count": 13,
   "id": "c2a073e3",
   "metadata": {},
   "outputs": [
    {
     "name": "stdout",
     "output_type": "stream",
     "text": [
      "2105586\n",
      "GCD: 12\n",
      "LCM: 240\n"
     ]
    }
   ],
   "source": [
    "print('2105586')\n",
    "import math\n",
    "a, b = 48,60\n",
    "gcd = math.gcd(a, b)\n",
    "lcm = a * b // gcd\n",
    "print(\"GCD:\", gcd)\n",
    "print(\"LCM:\", lcm)\n"
   ]
  },
  {
   "cell_type": "markdown",
   "id": "ca58124e",
   "metadata": {},
   "source": [
    "Q13. Write a Python program that read an integer and print the number of digit."
   ]
  },
  {
   "cell_type": "code",
   "execution_count": 14,
   "id": "4fccb897",
   "metadata": {},
   "outputs": [
    {
     "name": "stdout",
     "output_type": "stream",
     "text": [
      "2105586\n",
      "Number of digits: 5\n"
     ]
    }
   ],
   "source": [
    "print('2105586')\n",
    "num = 45676\n",
    "num_digits = len(str(abs(num)))\n",
    "print(\"Number of digits:\", num_digits)\n"
   ]
  },
  {
   "cell_type": "markdown",
   "id": "5cfe15f8",
   "metadata": {},
   "source": [
    "Q14. Write a Python program that will read a number and compute sum of the digit\n",
    "Ex: let num= 3456 output should be 18"
   ]
  },
  {
   "cell_type": "code",
   "execution_count": 15,
   "id": "c41d24f5",
   "metadata": {},
   "outputs": [
    {
     "name": "stdout",
     "output_type": "stream",
     "text": [
      "2105586\n",
      "Sum of digits: 22\n"
     ]
    }
   ],
   "source": [
    "print('2105586')\n",
    "num = 4567\n",
    "digit_sum = sum(int(digit) for digit in str(abs(num)))\n",
    "print(\"Sum of digits:\", digit_sum)\n"
   ]
  },
  {
   "cell_type": "markdown",
   "id": "dbdda9b1",
   "metadata": {},
   "source": [
    "Q15. Write a Python program that will reverse an integer\n",
    "i.e num =3456 reverse num=6543"
   ]
  },
  {
   "cell_type": "code",
   "execution_count": 16,
   "id": "49d13cc4",
   "metadata": {},
   "outputs": [
    {
     "name": "stdout",
     "output_type": "stream",
     "text": [
      "2105586\n",
      "Reversed number: 7654\n"
     ]
    }
   ],
   "source": [
    "print('2105586')\n",
    "num = 4567\n",
    "reverse_num = int(str(abs(num))[::-1])\n",
    "print(\"Reversed number:\", reverse_num)\n"
   ]
  },
  {
   "cell_type": "markdown",
   "id": "4eabeac2",
   "metadata": {},
   "source": [
    "Q16. Write a Python program that will check a number is palindrome or not.\n",
    "i.e 12321 is a palindrome"
   ]
  },
  {
   "cell_type": "code",
   "execution_count": 17,
   "id": "e3cdc11b",
   "metadata": {},
   "outputs": [
    {
     "name": "stdout",
     "output_type": "stream",
     "text": [
      "2105586\n",
      "Palindrome\n"
     ]
    }
   ],
   "source": [
    "print('2105586')\n",
    "num = 121\n",
    "if str(abs(num)) == str(abs(num))[::-1]:\n",
    "    print(\"Palindrome\")\n",
    "else:\n",
    "    print(\"Not a palindrome\")\n"
   ]
  },
  {
   "cell_type": "markdown",
   "id": "b752529e",
   "metadata": {},
   "source": [
    "Q17. Write a python program to find the Fibonacci series up to nth term."
   ]
  },
  {
   "cell_type": "code",
   "execution_count": 18,
   "id": "bc2dc5e0",
   "metadata": {},
   "outputs": [
    {
     "name": "stdout",
     "output_type": "stream",
     "text": [
      "2105586\n",
      "Fibonacci series: [0, 1, 1, 2, 3, 5, 8, 13, 21, 34]\n"
     ]
    }
   ],
   "source": [
    "print('2105586')\n",
    "n = 10\n",
    "fibonacci_series = [0, 1]\n",
    "while len(fibonacci_series) < n:\n",
    "    fibonacci_series.append(fibonacci_series[-1] + fibonacci_series[-2])\n",
    "\n",
    "print(\"Fibonacci series:\", fibonacci_series)\n"
   ]
  },
  {
   "cell_type": "markdown",
   "id": "719ae302",
   "metadata": {},
   "source": [
    "Q18. Write a Python program to check the number is Armstrong or not. For example, 371 is\n",
    "an Armstrong number since 3*3*3 + 7*7*7 + 1*1*1 = 371."
   ]
  },
  {
   "cell_type": "code",
   "execution_count": 19,
   "id": "0b9e5f1c",
   "metadata": {},
   "outputs": [
    {
     "name": "stdout",
     "output_type": "stream",
     "text": [
      "2105586\n",
      "Armstrong number\n"
     ]
    }
   ],
   "source": [
    "print('2105586')\n",
    "num = 371\n",
    "num_str = str(abs(num))\n",
    "armstrong_sum = sum(int(digit)**len(num_str) for digit in num_str)\n",
    "if armstrong_sum == abs(num):\n",
    "    print(\"Armstrong number\")\n",
    "else:\n",
    "    print(\"Not an Armstrong number\")\n"
   ]
  },
  {
   "cell_type": "markdown",
   "id": "46e2b766",
   "metadata": {},
   "source": [
    "Q19. Write a Python program that will display the prime’s number between M and N."
   ]
  },
  {
   "cell_type": "code",
   "execution_count": 20,
   "id": "c64a32a9",
   "metadata": {},
   "outputs": [
    {
     "name": "stdout",
     "output_type": "stream",
     "text": [
      "2105586\n",
      "11 13 17 19 "
     ]
    }
   ],
   "source": [
    "print('2105586')\n",
    "def is_prime(num):\n",
    "    if num < 2:\n",
    "        return False\n",
    "    for i in range(2, int(num**0.5) + 1):\n",
    "        if num % i == 0:\n",
    "            return False\n",
    "    return True\n",
    "\n",
    "M, N =11,20\n",
    "for num in range(M, N + 1):\n",
    "    if is_prime(num):\n",
    "        print(num, end=\" \")\n"
   ]
  },
  {
   "cell_type": "markdown",
   "id": "b8ac5dd7",
   "metadata": {},
   "source": [
    "Q20. Write a python program that will take a positive integer (num say) as input and display\n",
    "the positive numbers, which are less than num and relatively prime to num."
   ]
  },
  {
   "cell_type": "code",
   "execution_count": 21,
   "id": "c6235c9b",
   "metadata": {},
   "outputs": [
    {
     "name": "stdout",
     "output_type": "stream",
     "text": [
      "2105586\n",
      "1 5 7 11 13 17 "
     ]
    }
   ],
   "source": [
    "print('2105586')\n",
    "import math\n",
    "def are_relatively_prime(a, b):\n",
    "    return math.gcd(a, b) == 1\n",
    "\n",
    "num = 18\n",
    "for i in range(1, num):\n",
    "    if are_relatively_prime(i, num):\n",
    "        print(i, end=\" \")\n"
   ]
  },
  {
   "cell_type": "markdown",
   "id": "8aa5c1df",
   "metadata": {},
   "source": [
    "Q21. Write python programs that will print the following output.\n",
    "a.\n",
    "1\n",
    "1 2\n",
    "1 2 3\n",
    "1 2 3 4"
   ]
  },
  {
   "cell_type": "code",
   "execution_count": 22,
   "id": "dcdfd4cd",
   "metadata": {},
   "outputs": [
    {
     "name": "stdout",
     "output_type": "stream",
     "text": [
      "2105586\n",
      "1 \n",
      "1 2 \n",
      "1 2 3 \n",
      "1 2 3 4 \n"
     ]
    }
   ],
   "source": [
    "print('2105586')\n",
    "for i in range(1, 5):\n",
    "    for j in range(1, i + 1):\n",
    "        print(j, end=\" \")\n",
    "    print()"
   ]
  },
  {
   "cell_type": "markdown",
   "id": "6e850f42",
   "metadata": {},
   "source": [
    "b.\n",
    "1\n",
    "2 2\n",
    "3 3 3\n",
    "4 4 4 4"
   ]
  },
  {
   "cell_type": "code",
   "execution_count": 23,
   "id": "0033cdb6",
   "metadata": {},
   "outputs": [
    {
     "name": "stdout",
     "output_type": "stream",
     "text": [
      "2105586\n",
      "1   \n",
      "2   2   \n",
      "3   3   3   \n",
      "4   4   4   4   \n"
     ]
    }
   ],
   "source": [
    "print('2105586')\n",
    "for i in range(1, 5):\n",
    "    for j in range(i):\n",
    "        print(i, end=\"   \")\n",
    "    print()"
   ]
  },
  {
   "cell_type": "markdown",
   "id": "cdf1b932",
   "metadata": {},
   "source": [
    "c. A A A A A A\n",
    "   A         A\n",
    "   A         A\n",
    "   A         A\n",
    "   A A A A A A"
   ]
  },
  {
   "cell_type": "code",
   "execution_count": 24,
   "id": "8872fea7",
   "metadata": {},
   "outputs": [
    {
     "name": "stdout",
     "output_type": "stream",
     "text": [
      "2105586\n",
      "A A A A A A \n",
      "A         A \n",
      "A         A \n",
      "A         A \n",
      "A A A A A A \n"
     ]
    }
   ],
   "source": [
    "print('2105586')\n",
    "for i in range(5):\n",
    "    for j in range(6):\n",
    "        if i == 0 or i == 4 or (j == 0 and i != 0 and i != 4) or (j == 5 and i != 0 and i != 4):\n",
    "            print(\"A\", end=\" \")\n",
    "        else:\n",
    "            print(\"  \", end=\"\")\n",
    "    print()\n"
   ]
  },
  {
   "cell_type": "markdown",
   "id": "79a31f92",
   "metadata": {},
   "source": [
    "d.\n",
    "a\n",
    "a b\n",
    "a b c"
   ]
  },
  {
   "cell_type": "code",
   "execution_count": 26,
   "id": "8cad16fb",
   "metadata": {},
   "outputs": [
    {
     "name": "stdout",
     "output_type": "stream",
     "text": [
      "2105586\n",
      "a   \n",
      "a   b   \n",
      "a   b   c   \n"
     ]
    }
   ],
   "source": [
    "print('2105586')\n",
    "current_char = ord('a')\n",
    "\n",
    "for i in range(3):\n",
    "    old_char=current_char\n",
    "    for j in range(i + 1):\n",
    "        print(chr(current_char), end=\"   \")\n",
    "        current_char += 1\n",
    "    current_char=old_char\n",
    "    print()\n"
   ]
  },
  {
   "cell_type": "markdown",
   "id": "479978ff",
   "metadata": {},
   "source": [
    "e.\n",
    "aaaaaa\n",
    " aaaaa\n",
    "  aaaa\n",
    "   aaa\n",
    "    aa\n",
    "     a"
   ]
  },
  {
   "cell_type": "code",
   "execution_count": null,
   "id": "994a14fa",
   "metadata": {},
   "outputs": [],
   "source": [
    "print('2105586')\n",
    "for i in range(6):\n",
    "    print(\" \" * i + \"a\" * (6 - i))\n"
   ]
  },
  {
   "cell_type": "markdown",
   "id": "264b4ae4",
   "metadata": {},
   "source": [
    "f.\n",
    "        *\n",
    "      * * *\n",
    "    * * * * *\n",
    "  * * * * * * *\n",
    "* * * * * * * * *"
   ]
  },
  {
   "cell_type": "code",
   "execution_count": 27,
   "id": "ac0d26cb",
   "metadata": {},
   "outputs": [
    {
     "name": "stdout",
     "output_type": "stream",
     "text": [
      "2105586\n",
      "    *\n",
      "   ***\n",
      "  *****\n",
      " *******\n",
      "*********\n"
     ]
    }
   ],
   "source": [
    "print('2105586')\n",
    "num_rows = 5\n",
    "\n",
    "for i in range(1, num_rows + 1):\n",
    "    spaces = \" \" * (num_rows - i)\n",
    "    stars = \"*\" * (2 * i - 1)\n",
    "    print(spaces + stars)\n"
   ]
  },
  {
   "cell_type": "markdown",
   "id": "13dad061",
   "metadata": {},
   "source": [
    "g.\n",
    "        1\n",
    "      2 3 2\n",
    "    3 4 5 4 3\n",
    "  4 5 6 7 6 5 4\n",
    "5 6 7 8 9 8 7 6 5"
   ]
  },
  {
   "cell_type": "code",
   "execution_count": 28,
   "id": "fba25cf4",
   "metadata": {},
   "outputs": [
    {
     "name": "stdout",
     "output_type": "stream",
     "text": [
      "2105586\n",
      "        1 \n",
      "      2 3 2 \n",
      "    3 4 5 4 3 \n",
      "  4 5 6 7 6 5 4 \n",
      "5 6 7 8 9 8 7 6 5 \n"
     ]
    }
   ],
   "source": [
    "print('2105586')\n",
    "def print_pattern(n):\n",
    "    for i in range(1, n+1):\n",
    "        for j in range(n-i):\n",
    "            print(\" \", end=\" \")\n",
    "        for j in range(i, 2*i):\n",
    "            print(j, end=\" \")\n",
    "        for j in range(2*i-2, i-1, -1):\n",
    "            print(j, end=\" \")\n",
    "        print()\n",
    "print_pattern(5)\n"
   ]
  },
  {
   "cell_type": "markdown",
   "id": "df93afda",
   "metadata": {},
   "source": [
    "h.\n",
    "     1\n",
    "    1 1\n",
    "   1 2 1\n",
    "  1 3 3 1\n",
    " 1 4 6 4 1\n",
    "1 5 10 10 5 1"
   ]
  },
  {
   "cell_type": "code",
   "execution_count": 29,
   "id": "08c5c809",
   "metadata": {},
   "outputs": [
    {
     "name": "stdout",
     "output_type": "stream",
     "text": [
      "2105586\n",
      "      1      \n",
      "     1 1     \n",
      "    1 2 1    \n",
      "   1 3 3 1   \n",
      "  1 4 6 4 1  \n",
      "1 5 10 10 5 1\n"
     ]
    }
   ],
   "source": [
    "print('2105586')\n",
    "def generate_pascals_triangle(num_rows):\n",
    "    triangle = []\n",
    "\n",
    "    for i in range(num_rows):\n",
    "        row = [1] * (i + 1)\n",
    "        if i >= 2:\n",
    "            for j in range(1, i):\n",
    "                row[j] = triangle[i - 1][j - 1] + triangle[i - 1][j]\n",
    "        triangle.append(row)\n",
    "\n",
    "    return triangle\n",
    "\n",
    "def print_pascals_triangle(triangle):\n",
    "    num_rows = len(triangle)\n",
    "    max_width = len(\" \".join(map(str, triangle[-1])))\n",
    "\n",
    "    for row in triangle:\n",
    "        spaces = \" \" * ((max_width - len(\" \".join(map(str, row)))) // 2)\n",
    "        formatted_row = spaces + \" \".join(map(str, row)) + spaces\n",
    "        print(formatted_row)\n",
    "\n",
    "num_rows = 6\n",
    "triangle = generate_pascals_triangle(num_rows)\n",
    "print_pascals_triangle(triangle)\n"
   ]
  }
 ],
 "metadata": {
  "kernelspec": {
   "display_name": "Python 3 (ipykernel)",
   "language": "python",
   "name": "python3"
  },
  "language_info": {
   "codemirror_mode": {
    "name": "ipython",
    "version": 3
   },
   "file_extension": ".py",
   "mimetype": "text/x-python",
   "name": "python",
   "nbconvert_exporter": "python",
   "pygments_lexer": "ipython3",
   "version": "3.10.9"
  }
 },
 "nbformat": 4,
 "nbformat_minor": 5
}
