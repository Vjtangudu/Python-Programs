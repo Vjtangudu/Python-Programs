{
 "cells": [
  {
   "cell_type": "code",
   "execution_count": 11,
   "id": "58757de6",
   "metadata": {},
   "outputs": [
    {
     "name": "stdout",
     "output_type": "stream",
     "text": [
      "['Vijay', 'Vijay']\n",
      "Hi I'm Vijay Sankar, vjtangudu is myself Vijay insta id creared on 04-01-2023\n",
      "['04-01-2023']\n"
     ]
    }
   ],
   "source": [
    "import re\n",
    "str = 'Hi I am Vijay Sankar, vjtangudu is myself Vijay insta id creared on 04-01-2023'\n",
    "resul = re.findall(r'V\\w*',str)\n",
    "print(resul)\n",
    "result = re.sub(r\"I am\",\"I'm\",str)\n",
    "print(result)\n",
    "result1 = re.findall(r'\\d{1,2}-\\d{1,2}-\\d{4}',str)\n",
    "print(result1)"
   ]
  },
  {
   "cell_type": "code",
   "execution_count": 2,
   "id": "82c02b2f",
   "metadata": {},
   "outputs": [
    {
     "name": "stdout",
     "output_type": "stream",
     "text": [
      "2019-01-04 13:13:00\n"
     ]
    }
   ],
   "source": [
    "from datetime import *\n",
    "d = date(2019,1,4)\n",
    "t = time(13,13)\n",
    "dt = datetime.combine(d,t)\n",
    "print(dt)"
   ]
  },
  {
   "cell_type": "code",
   "execution_count": 3,
   "id": "19c8e75c",
   "metadata": {},
   "outputs": [
    {
     "name": "stdout",
     "output_type": "stream",
     "text": [
      "1968-12-23\n",
      "1974-12-05\n",
      "1999-05-06\n",
      "2004-01-04\n"
     ]
    }
   ],
   "source": [
    "from datetime import *\n",
    "ldate = []\n",
    "d1 = date(2004,1,4)\n",
    "d2 = date(1974,12,5)\n",
    "d3 = date(1968,12,23)\n",
    "d4 = date(1999,5,6)\n",
    "ldate.append(d1)\n",
    "ldate.append(d2)\n",
    "ldate.append(d3)\n",
    "ldate.append(d4)\n",
    "ldate.sort()\n",
    "for i in ldate:\n",
    "    print(i)"
   ]
  },
  {
   "cell_type": "code",
   "execution_count": 6,
   "id": "521b1a32",
   "metadata": {},
   "outputs": [
    {
     "name": "stdout",
     "output_type": "stream",
     "text": [
      "1968-12-23\n",
      "1974-12-05\n",
      "1999-05-06\n",
      "2004-01-04\n"
     ]
    }
   ],
   "source": [
    "#sleep method\n",
    "from datetime import *\n",
    "import time\n",
    "ldate = []\n",
    "d1 = date(2004,1,4)\n",
    "d2 = date(1974,12,5)\n",
    "d3 = date(1968,12,23)\n",
    "d4 = date(1999,5,6)\n",
    "ldate.append(d1)\n",
    "ldate.append(d2)\n",
    "ldate.append(d3)\n",
    "ldate.append(d4)\n",
    "ldate.sort()\n",
    "time.sleep(5)#waiting to 5 second to execute next one\n",
    "for i in ldate:\n",
    "    print(i)"
   ]
  },
  {
   "cell_type": "code",
   "execution_count": 8,
   "id": "86ecb78c",
   "metadata": {},
   "outputs": [
    {
     "name": "stdout",
     "output_type": "stream",
     "text": [
      "INVALID\n"
     ]
    }
   ],
   "source": [
    "from datetime import *\n",
    "def creditcheck(valdate):\n",
    "    if valdate>datetime.now().date():\n",
    "        print(\"VALID\")\n",
    "    else:\n",
    "        print('INVALID')\n",
    "        \n",
    "creditcheck(date(2018,12,23))"
   ]
  }
 ],
 "metadata": {
  "kernelspec": {
   "display_name": "Python 3 (ipykernel)",
   "language": "python",
   "name": "python3"
  },
  "language_info": {
   "codemirror_mode": {
    "name": "ipython",
    "version": 3
   },
   "file_extension": ".py",
   "mimetype": "text/x-python",
   "name": "python",
   "nbconvert_exporter": "python",
   "pygments_lexer": "ipython3",
   "version": "3.10.9"
  }
 },
 "nbformat": 4,
 "nbformat_minor": 5
}
